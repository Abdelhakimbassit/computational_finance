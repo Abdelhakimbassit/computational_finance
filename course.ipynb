{
 "cells": [
  {
   "cell_type": "markdown",
   "metadata": {},
   "source": [
    "# Using Python to analyze financial data and test automated strategies\n",
    "Computational Finance, December 11 and 13, 2017\n",
    "\n",
    "Nicolas Mauhé"
   ]
  },
  {
   "cell_type": "markdown",
   "metadata": {},
   "source": [
    "## Introduction"
   ]
  },
  {
   "cell_type": "markdown",
   "metadata": {},
   "source": [
    "Bt is a simple Python package that can be used to fetch financial data, analyze them, establish algorithmic trading strategies, and backtest them. A complete description of the package can be found [here](http://pmorissette.github.io/bt/). It is an open-source package : which means you can access the code behind it on its [github repository](https://github.com/pmorissette/bt). Most of the Python packages work this way : so please get used to using other people work and to reading package documentations, because that is the way Python works. "
   ]
  },
  {
   "cell_type": "markdown",
   "metadata": {},
   "source": [
    "We first allow matplotlib in the notebook in order to have nice graphs, and we import bt. To do that, let's write a bit of code. Each time you see a cell with some code in it, click on it and then on the \"Run\" button at the top of the page. You can also click on the cell and then use the shortcut Ctrl + Enter. Feel free to modify every cell and to run them again ! This course is made for you to experiment, and learn how to use Python. So feel free to test anything !"
   ]
  },
  {
   "cell_type": "code",
   "execution_count": null,
   "metadata": {},
   "outputs": [],
   "source": [
    "%matplotlib inline\n",
    "import bt\n",
    "print(\"We are good to go !\")"
   ]
  },
  {
   "cell_type": "markdown",
   "metadata": {},
   "source": [
    "Let's start by choosing which stock we want to invest in. We will focus on US equity. We can use any ticker symbol of any US Equity. A list can be found [here](http://eoddata.com/symbols.aspx). Let's choose three companies."
   ]
  },
  {
   "cell_type": "markdown",
   "metadata": {},
   "source": [
    "We can use the bt method bt.get() to fetch financial data from Yahoo. To know how a method work, we can always use the python method help()."
   ]
  },
  {
   "cell_type": "code",
   "execution_count": null,
   "metadata": {},
   "outputs": [],
   "source": [
    "help(bt.get)"
   ]
  },
  {
   "cell_type": "markdown",
   "metadata": {},
   "source": [
    "This is a bit \"raw\", but it can be useful. Another solution is to check the [package documentation](http://pmorissette.github.io/bt/index.html). Here is how to use bt.get():"
   ]
  },
  {
   "cell_type": "code",
   "execution_count": null,
   "metadata": {},
   "outputs": [],
   "source": [
    "equity_list = ['AAPL', 'MCD', 'MSFT']\n",
    "data = bt.get(equity_list, start='2010-01-01')\n",
    "print data.head()"
   ]
  },
  {
   "cell_type": "markdown",
   "metadata": {},
   "source": [
    "There we go ! We can now import data from any security, as long as it is available on [Yahoo Finance](https://finance.yahoo.com/)."
   ]
  },
  {
   "cell_type": "markdown",
   "metadata": {},
   "source": [
    "## Analyzing financial data"
   ]
  },
  {
   "cell_type": "markdown",
   "metadata": {},
   "source": [
    "We can check the type of this new Python object by using the method type()"
   ]
  },
  {
   "cell_type": "code",
   "execution_count": null,
   "metadata": {},
   "outputs": [],
   "source": [
    "type(data)"
   ]
  },
  {
   "cell_type": "markdown",
   "metadata": {},
   "source": [
    "It is a dataframe of the package Pandas, the most used Python package to do data analysis.\n",
    "We can check the features of a pandas dataframe by using the method dir()."
   ]
  },
  {
   "cell_type": "code",
   "execution_count": null,
   "metadata": {},
   "outputs": [],
   "source": [
    "dir(data)"
   ]
  },
  {
   "cell_type": "markdown",
   "metadata": {},
   "source": [
    "There are a lot of things, and methods are mixed up with attributes. It is easier to check the Pandas documentation about [dataframes](https://pandas.pydata.org/pandas-docs/stable/generated/pandas.DataFrame.html). One can see that some interesting methods are present, such as the one used to plot the data on a graph, plot().\n"
   ]
  },
  {
   "cell_type": "code",
   "execution_count": null,
   "metadata": {},
   "outputs": [],
   "source": [
    "data.plot()"
   ]
  },
  {
   "cell_type": "markdown",
   "metadata": {},
   "source": [
    "We can also find the method hist(), used to plot an histogram of the values."
   ]
  },
  {
   "cell_type": "code",
   "execution_count": null,
   "metadata": {},
   "outputs": [],
   "source": [
    "data.hist()"
   ]
  },
  {
   "cell_type": "markdown",
   "metadata": {},
   "source": [
    "An interesting argument for the drawing methods such as plot() or hist() is the size you want. Just specify figsize = (length, height)."
   ]
  },
  {
   "cell_type": "code",
   "execution_count": null,
   "metadata": {},
   "outputs": [],
   "source": [
    "data.plot(figsize = (15, 10))"
   ]
  },
  {
   "cell_type": "markdown",
   "metadata": {},
   "source": [
    "Another very useful method is describe(), that gives us summary statistics about the dataset."
   ]
  },
  {
   "cell_type": "code",
   "execution_count": null,
   "metadata": {},
   "outputs": [],
   "source": [
    "data.describe()"
   ]
  },
  {
   "cell_type": "markdown",
   "metadata": {},
   "source": [
    "Exercise 1 : find a way to \n",
    "1. We have seen how to display the first entries of the DataFrame, using head(). Now let's try to display only the most recent prices (the last items of the dataframe). \n",
    "2. Let's plot them....\n",
    "3. Now, let's plot the evolution of these equities during their last 30 quotes."
   ]
  },
  {
   "cell_type": "markdown",
   "metadata": {},
   "source": [
    "Solution (3 commands)"
   ]
  },
  {
   "cell_type": "markdown",
   "metadata": {},
   "source": [
    "## Computing financial indicators"
   ]
  },
  {
   "cell_type": "markdown",
   "metadata": {},
   "source": [
    "Let's go further. Some useful bt methods are rebase() and to_returns()."
   ]
  },
  {
   "cell_type": "code",
   "execution_count": null,
   "metadata": {},
   "outputs": [],
   "source": [
    "print data.rebase().head()"
   ]
  },
  {
   "cell_type": "code",
   "execution_count": null,
   "metadata": {},
   "outputs": [],
   "source": [
    "print data.to_returns().head()"
   ]
  },
  {
   "cell_type": "markdown",
   "metadata": {},
   "source": [
    "The formula of to_returns() is simply (t1 / t0) - 1."
   ]
  },
  {
   "cell_type": "markdown",
   "metadata": {},
   "source": [
    "Exercise 2 : produce the two following plots :\n",
    "- The price evolution during the last 30 quotes rebased to 100 at the beginning of the plot.\n",
    "- The histogram of the returns of the three equities during last year (252 quotes)."
   ]
  },
  {
   "cell_type": "markdown",
   "metadata": {},
   "source": [
    "Solution (2 commands)"
   ]
  },
  {
   "cell_type": "markdown",
   "metadata": {},
   "source": [
    "Another interesting method available for the data object is corr(). It enables us to compute the correlation matrix of our securities. Let's compute the correlation matrix of the returns."
   ]
  },
  {
   "cell_type": "code",
   "execution_count": null,
   "metadata": {},
   "outputs": [],
   "source": [
    "data.to_returns().corr()"
   ]
  },
  {
   "cell_type": "markdown",
   "metadata": {},
   "source": [
    "Another method, plot_corr_heatmap, enable us to get a similar result but using a heatmap."
   ]
  },
  {
   "cell_type": "code",
   "execution_count": null,
   "metadata": {},
   "outputs": [],
   "source": [
    "data.to_returns().plot_corr_heatmap()"
   ]
  },
  {
   "cell_type": "markdown",
   "metadata": {},
   "source": [
    "Now, let's see how to display some more complex financial statistics about our data."
   ]
  },
  {
   "cell_type": "code",
   "execution_count": null,
   "metadata": {},
   "outputs": [],
   "source": [
    "stats = data.calc_stats()\n",
    "stats.display()"
   ]
  },
  {
   "cell_type": "markdown",
   "metadata": {},
   "source": [
    "What does it mean ?\n",
    "\n",
    "- Total Return: Total return on the period.\n",
    "- Daily Sharpe: Daily Sharpe ratio\n",
    "\n",
    "The Sharpe ratio : $$S(x) = \\frac{R_x - r}{\\sigma_x}$$\n",
    "With $R_x$ being the investment return, $r$ being the riskfree rate and $\\sigma_x$ being the standard deviation of the investment.\n",
    "The Sharpe ratio measures the return you are receiving in comparison with the risk you are taking.\n",
    "- Daily Sortino: Daily Sortino ratio\n",
    "\n",
    "The Sortino ratio (as used in the bt package) is a variation of the Sharpe ratio, taking into account only the negative volatility. The formula is very similar :\n",
    "$$S^{'}(x) = \\frac{R_x - r}{\\sigma^-_x}$$\n",
    "With $R_x$ being the investment return, $r$ being the riskfree rate and $\\sigma^-_x$ being the downside deviation of the investment.\n",
    "\n",
    "- CAGR: Compound annual growth rate\n",
    "\n",
    "The compound annual growth rate (CAGR) :\n",
    "$${CAGR}(t_0,t_n) = \\left( {V(t_n)/V(t_0)} \\right)^\\frac{1}{t_n-t_0} - 1$$\n",
    "It is an easy way to have an idea of the \"average\" return during the period : taking the actual average of the annual returns is not as good, given that volatility can affect the results.\n",
    "\n",
    "- Max Drawdown: Maximum decline of the equity\n",
    "- Calmar Ratio: Ratio of the CAGR and the absolute value of the Max Drawdown\n",
    "\n",
    " \n",
    " \n",
    "- Daily Mean (ann.): Daily average of return, times the number of trading periods in a year (252)\n",
    "- Daily Vol (ann.): Same thing with the standard deviation\n",
    "- Daily Skew: Usual measure of the asymmetry, daily average\n",
    "- Daily Kurt: Usual measure of \"tailedness\", daily average\n",
    " \n",
    "  \n",
    "  \n",
    "- MTD: The month to date return\n",
    "- 3m: 3 months ago to date return\n",
    "- 6m: 6 months\n",
    "- YTD: The beginning of the year to date return\n",
    "- 1Y: One year ago to date return\n",
    "- 3Y: Etc.\n",
    "- 5Y: Etc.\n",
    "- 10Y: Be careful : these stats are limited by the data start date !\n",
    "- Since Incep. (ann.): Same thing !"
   ]
  },
  {
   "cell_type": "markdown",
   "metadata": {},
   "source": [
    "To get correct statistics (such as Sharpe and Sortino ratios), we have to specify the riskfree rate on the considered period. To estimate the riskfree rate, The Treasury Bonds rate is used. We will use the ticker symbol [IEF](http://eoddata.com/stockquote/NASDAQ/IEF.htm) to determine the riskfree rate."
   ]
  },
  {
   "cell_type": "code",
   "execution_count": null,
   "metadata": {},
   "outputs": [],
   "source": [
    "riskfree =  bt.get('IEF', start='2010-01-01')\n",
    "riskfree_rate = float(riskfree.calc_cagr())\n",
    "print riskfree_rate"
   ]
  },
  {
   "cell_type": "markdown",
   "metadata": {},
   "source": [
    "We can now display accurate statistics about our data."
   ]
  },
  {
   "cell_type": "code",
   "execution_count": null,
   "metadata": {},
   "outputs": [],
   "source": [
    "stats.set_riskfree_rate(riskfree_rate)\n",
    "stats.display()"
   ]
  },
  {
   "cell_type": "markdown",
   "metadata": {},
   "source": [
    "Exercice 3:\n",
    "- Plot the price evolution of General Electric and Ford since 2015.\n",
    "- Display their financial indicators, with a correct riskfree rate."
   ]
  },
  {
   "cell_type": "markdown",
   "metadata": {},
   "source": [
    "Solution"
   ]
  },
  {
   "cell_type": "markdown",
   "metadata": {},
   "source": [
    "## Designing automated strategies"
   ]
  },
  {
   "cell_type": "markdown",
   "metadata": {},
   "source": [
    "You can establish strategies in bt in order to choose a portfolio of equities and to automatically ajust this portfolio given a determined strategy. To do so, we will use the bt.Strategy() object."
   ]
  },
  {
   "cell_type": "code",
   "execution_count": null,
   "metadata": {},
   "outputs": [],
   "source": [
    "help(bt.Strategy)"
   ]
  },
  {
   "cell_type": "markdown",
   "metadata": {},
   "source": [
    "As we can see, a strategy is a stack of algorithms that work one after the other, transmitting data to each other and / or stop signals. A more complete explanation can be found in the [official documentation](http://pmorissette.github.io/bt/algos.html)."
   ]
  },
  {
   "cell_type": "markdown",
   "metadata": {},
   "source": [
    "A good structure for a stack of algorithm is the following one :\n",
    "- frequency : which frequency should your strategy use ?\n",
    "- selection: which securities should you choose ?\n",
    "- weighting: how much weight should each of the selected securities have in the target portfolio?\n",
    "- allocate: close out positions that are no longer needed and allocate capital to those that were selected and given target weights.\n",
    "\n",
    "Let's take a practical example, making these choices :\n",
    "- frequency : every month\n",
    "- selection: all the securities available (in the dataframe)\n",
    "- weighting: equal weight to all\n",
    "- allocate.\n"
   ]
  },
  {
   "cell_type": "code",
   "execution_count": null,
   "metadata": {},
   "outputs": [],
   "source": [
    "s1 = bt.Strategy('Equal weights', \n",
    "                       [bt.algos.RunMonthly(),\n",
    "                       bt.algos.SelectAll(),\n",
    "                       bt.algos.WeighEqually(),\n",
    "                       bt.algos.Rebalance()])"
   ]
  },
  {
   "cell_type": "markdown",
   "metadata": {},
   "source": [
    "We then run a backtest to assess the efficiency of our automated trading strategy."
   ]
  },
  {
   "cell_type": "code",
   "execution_count": null,
   "metadata": {},
   "outputs": [],
   "source": [
    "equal_weights = bt.Backtest(s1, data)\n",
    "result = bt.run(equal_weights)\n",
    "result.plot()\n",
    "dir(result)"
   ]
  },
  {
   "cell_type": "markdown",
   "metadata": {},
   "source": [
    "We can display the same statistics we computed before, this time for the entire portfolio (and its monthly variations)."
   ]
  },
  {
   "cell_type": "code",
   "execution_count": null,
   "metadata": {},
   "outputs": [],
   "source": [
    "result.set_riskfree_rate(riskfree_rate)\n",
    "result.display()"
   ]
  },
  {
   "cell_type": "markdown",
   "metadata": {},
   "source": [
    "We can plot the weight variations to have an idea of the algorithm decisions regarding our portfolio."
   ]
  },
  {
   "cell_type": "code",
   "execution_count": null,
   "metadata": {},
   "outputs": [],
   "source": [
    "result.plot_security_weights()"
   ]
  },
  {
   "cell_type": "markdown",
   "metadata": {},
   "source": [
    "Exercise 4. Let's compare this strategy to the Standard & Poor's 500 index.\n",
    "1. Get the S&P index data from [Yahoo](https://finance.yahoo.com/).\n",
    "2. Create a strategy that only buys S&P index.\n",
    "3. Create a backtest on the data you fetched, called \"benchmark\".\n",
    "4. Run it !"
   ]
  },
  {
   "cell_type": "markdown",
   "metadata": {},
   "source": [
    "Solution"
   ]
  },
  {
   "cell_type": "markdown",
   "metadata": {},
   "source": [
    "It is easier to run the two backtest at the same time in order to compare their results."
   ]
  },
  {
   "cell_type": "code",
   "execution_count": null,
   "metadata": {},
   "outputs": [],
   "source": [
    "result = bt.run(equal_weights, benchmark)\n",
    "result.plot()"
   ]
  },
  {
   "cell_type": "markdown",
   "metadata": {},
   "source": [
    "## Selecting algos"
   ]
  },
  {
   "cell_type": "markdown",
   "metadata": {},
   "source": [
    "### Frequency"
   ]
  },
  {
   "cell_type": "markdown",
   "metadata": {},
   "source": [
    "The frequency can be just once using [RunOnce](http://pmorissette.github.io/bt/bt.html#bt.algos.RunOnce), a specific date using [RunOnDate](http://pmorissette.github.io/bt/bt.html#bt.algos.RunOnDate), or every n periods [RunEveryNPeriods](http://pmorissette.github.io/bt/bt.html#bt.algos.RunEveryNPeriods). The frequency can also be at the beginning of each day, week, month, quarter or year.\n",
    "- [RunDaily](http://pmorissette.github.io/bt/bt.html#bt.algos.RunDaily)\n",
    "- [RunWeekly](http://pmorissette.github.io/bt/bt.html#bt.algos.RunWeekly)\n",
    "- Etc."
   ]
  },
  {
   "cell_type": "markdown",
   "metadata": {},
   "source": [
    "### Selection "
   ]
  },
  {
   "cell_type": "markdown",
   "metadata": {},
   "source": [
    "Let's see how we can select specific equities based on conditions. The algos we have are\n",
    "\n",
    "- [SelectAll](http://pmorissette.github.io/bt/bt.html#bt.algos.SelectAll)\n",
    "- SelectHasData\n",
    "- SelectMomentum\n",
    "- SelectN\n",
    "- SelectRandomly\n",
    "- SelectThese\n",
    "- SelectWhere"
   ]
  },
  {
   "cell_type": "markdown",
   "metadata": {},
   "source": [
    "We will use SelectRandomly to conduct a quick experiment. We will choose at random 10 securities among some of the most famous US companies, and invest in them equally"
   ]
  },
  {
   "cell_type": "code",
   "execution_count": null,
   "metadata": {},
   "outputs": [],
   "source": [
    "equity_list = ['AAPL', 'MCD', 'MSFT', 'TGT', 'GE', 'AMZN', 'T', 'UPS', 'GM', 'IBM', 'PEP', 'VZ', 'DIS', 'INTC', 'FORD', 'CMCSA', 'IEF']\n",
    "data = bt.get(equity_list, start='2010-01-01')\n",
    "print data.head()"
   ]
  },
  {
   "cell_type": "markdown",
   "metadata": {},
   "source": [
    "Exercise 5 : \n",
    "1. Let's build our random strategy. It is the same strategy as before, but this time we use SelectRandomly in our algo stack. We only select 10 securities.\n",
    "2. Compare this strategy to the S & P Index."
   ]
  },
  {
   "cell_type": "markdown",
   "metadata": {},
   "source": [
    "Solution"
   ]
  },
  {
   "cell_type": "code",
   "execution_count": null,
   "metadata": {},
   "outputs": [],
   "source": [
    "result.set_riskfree_rate(riskfree_rate)\n",
    "result.display()"
   ]
  },
  {
   "cell_type": "markdown",
   "metadata": {},
   "source": [
    "Our strategy is less efficient than the S & P, we did not beat the market."
   ]
  },
  {
   "cell_type": "markdown",
   "metadata": {},
   "source": [
    "Exercise : We want to code an algorithm that follow a simple strategy : only invest in the 5 securities that have the highest return, every month, among our list of famous US securities. Write the strategy, and compare it to the random strategy and the S & P index. Did we beat the market ?"
   ]
  },
  {
   "cell_type": "markdown",
   "metadata": {},
   "source": [
    "Next : Weights and allocate.\n",
    "What would you want us to cover on Wednesday ?"
   ]
  }
 ],
 "metadata": {
  "kernelspec": {
   "display_name": "Python 2",
   "language": "python",
   "name": "python2"
  },
  "language_info": {
   "codemirror_mode": {
    "name": "ipython",
    "version": 2
   },
   "file_extension": ".py",
   "mimetype": "text/x-python",
   "name": "python",
   "nbconvert_exporter": "python",
   "pygments_lexer": "ipython2",
   "version": "2.7.13"
  }
 },
 "nbformat": 4,
 "nbformat_minor": 2
}
