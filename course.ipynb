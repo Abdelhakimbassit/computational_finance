{
 "cells": [
  {
   "cell_type": "markdown",
   "metadata": {
    "slideshow": {
     "slide_type": "slide"
    }
   },
   "source": [
    "# Using Python to analyze financial data and test automated strategies\n",
    "Computational Finance, Université de Bordeaux, December 07 and 14, 2018\n",
    "\n",
    "Nicolas Mauhé ([nicolas.mauhe@u-bordeaux.fr](mailto:nicolas.mauhe@u-bordeaux.fr))"
   ]
  },
  {
   "cell_type": "markdown",
   "metadata": {
    "slideshow": {
     "slide_type": "skip"
    }
   },
   "source": [
    "## Table of Contents\n",
    "1. [Introduction](#Introduction)\n",
    "2. [Analyzing financial data](#Analyzing-financial-data)\n",
    "3. [Computing financial indicators](#Computing-financial-indicators)\n",
    "4. [Designing automated strategies](#Designing-automated-strategies)\n",
    "1. [Selecting algos](#Selecting-algos)\n",
    "1. [Customising strategies](#Customising-strategies)\n",
    "1. [Combining several strategies](#Combining-several-strategies)\n",
    "1. [Using professional data](#Using-professional-data)\n",
    "1. [Putting it all into practice](#Putting-it-all-into-practice)\n",
    "1. [Going further](#Going-further)"
   ]
  },
  {
   "cell_type": "markdown",
   "metadata": {
    "slideshow": {
     "slide_type": "slide"
    }
   },
   "source": [
    "## Introduction"
   ]
  },
  {
   "cell_type": "markdown",
   "metadata": {
    "slideshow": {
     "slide_type": "subslide"
    }
   },
   "source": [
    "Bt is a simple Python package that can be used to fetch financial data, analyze them, establish algorithmic trading strategies, and backtest them. A complete description of the package can be found [here](http://pmorissette.github.io/bt/). It is an open-source package : which means you can access the code behind it on its [github repository](https://github.com/pmorissette/bt). Most of the Python packages work this way : so please get used to using other people work and to reading package documentations, because that is the way Python works. "
   ]
  },
  {
   "cell_type": "markdown",
   "metadata": {
    "slideshow": {
     "slide_type": "fragment"
    }
   },
   "source": [
    "Each time you see a cell with some code in it, click on it and then on the \"Run\" button at the top of the page. You can also click on the cell and then use the shortcut Ctrl + Enter. Feel free to modify every cell and to run them again ! This course is made for you to experiment, and learn how to use Python. So feel free to test anything !"
   ]
  },
  {
   "cell_type": "markdown",
   "metadata": {
    "slideshow": {
     "slide_type": "subslide"
    }
   },
   "source": [
    "We first import the packages we need:\n",
    "- bt to do backtesting\n",
    "- ffn to get financial indicators (bt works on top of it)\n",
    "- pandas to use data\n",
    "- numpy to do some math"
   ]
  },
  {
   "cell_type": "markdown",
   "metadata": {},
   "source": [
    "We can import manually packages downloaded from github using these lines :"
   ]
  },
  {
   "cell_type": "code",
   "execution_count": 1,
   "metadata": {},
   "outputs": [],
   "source": [
    "import sys\n",
    "sys.path.insert(0, \"./ffn-master/\")\n",
    "import ffn"
   ]
  },
  {
   "cell_type": "markdown",
   "metadata": {},
   "source": [
    "For general packages, we can install them using our package manager (anaconda, pip, etc.) and import them directly:"
   ]
  },
  {
   "cell_type": "code",
   "execution_count": 2,
   "metadata": {
    "slideshow": {
     "slide_type": "subslide"
    }
   },
   "outputs": [],
   "source": [
    "import bt\n",
    "import pandas as pd\n",
    "import numpy as np\n",
    "import matplotlib.pyplot as plt"
   ]
  },
  {
   "cell_type": "markdown",
   "metadata": {},
   "source": [
    "We can change the style of the graphs by using :"
   ]
  },
  {
   "cell_type": "code",
   "execution_count": 3,
   "metadata": {},
   "outputs": [],
   "source": [
    "plt.style.use('ggplot')"
   ]
  },
  {
   "cell_type": "markdown",
   "metadata": {},
   "source": [
    "All the styles are available [here](https://matplotlib.org/gallery/style_sheets/style_sheets_reference.html)."
   ]
  },
  {
   "cell_type": "markdown",
   "metadata": {
    "slideshow": {
     "slide_type": "subslide"
    }
   },
   "source": [
    "Let's start by choosing which stock we want to invest in. We will focus on US equity. We can use any ticker symbol of any US Equity. A list can be found [here](http://eoddata.com/symbols.aspx). Let's choose three companies."
   ]
  },
  {
   "cell_type": "markdown",
   "metadata": {
    "slideshow": {
     "slide_type": "subslide"
    }
   },
   "source": [
    "We can use the bt method `bt.get()` to fetch financial data from Yahoo. To know how a method work, we can always use the python method help()."
   ]
  },
  {
   "cell_type": "code",
   "execution_count": null,
   "metadata": {
    "scrolled": true,
    "slideshow": {
     "slide_type": "fragment"
    }
   },
   "outputs": [],
   "source": [
    "help(bt.get)"
   ]
  },
  {
   "cell_type": "markdown",
   "metadata": {},
   "source": [
    "Alternatively, you can use the interrogation point."
   ]
  },
  {
   "cell_type": "code",
   "execution_count": null,
   "metadata": {},
   "outputs": [],
   "source": [
    "bt.get?"
   ]
  },
  {
   "cell_type": "markdown",
   "metadata": {
    "slideshow": {
     "slide_type": "subslide"
    }
   },
   "source": [
    "This is a bit \"raw\", but it can be useful. Another solution is to check the [package documentation](http://pmorissette.github.io/bt/index.html). Here is how to use `bt.get()`:"
   ]
  },
  {
   "cell_type": "code",
   "execution_count": 5,
   "metadata": {
    "slideshow": {
     "slide_type": "fragment"
    }
   },
   "outputs": [],
   "source": [
    "equity_list = ['AAPL', 'MCD', 'MSFT', 'F']\n",
    "beginning = '2013-01-01'"
   ]
  },
  {
   "cell_type": "code",
   "execution_count": null,
   "metadata": {
    "slideshow": {
     "slide_type": "fragment"
    }
   },
   "outputs": [],
   "source": [
    "data = bt.get(equity_list, start=beginning)\n",
    "data.plot()"
   ]
  },
  {
   "cell_type": "markdown",
   "metadata": {
    "slideshow": {
     "slide_type": "subslide"
    }
   },
   "source": [
    "There we go ! We can now import data from any security, as long as it is available on [Yahoo Finance](https://finance.yahoo.com/)."
   ]
  },
  {
   "cell_type": "markdown",
   "metadata": {
    "slideshow": {
     "slide_type": "slide"
    }
   },
   "source": [
    "## Analyzing financial data"
   ]
  },
  {
   "cell_type": "markdown",
   "metadata": {
    "slideshow": {
     "slide_type": "subslide"
    }
   },
   "source": [
    "We can check the type of this new Python object by using the method type()"
   ]
  },
  {
   "cell_type": "code",
   "execution_count": null,
   "metadata": {
    "slideshow": {
     "slide_type": "fragment"
    }
   },
   "outputs": [],
   "source": [
    "type(data)"
   ]
  },
  {
   "cell_type": "markdown",
   "metadata": {
    "slideshow": {
     "slide_type": "subslide"
    }
   },
   "source": [
    "It is a dataframe of the package Pandas, the most used Python package to do data analysis.\n",
    "\n",
    "We can check the Pandas documentation about [dataframes](https://pandas.pydata.org/pandas-docs/stable/generated/pandas.DataFrame.html). Two types of \"subobjects\" are available for any python object : attributes (fixed objects) and methods (functions). A way to quickly get a list of these in a netbook is to type in the object name followed by a dot and to press TAB."
   ]
  },
  {
   "cell_type": "markdown",
   "metadata": {
    "slideshow": {
     "slide_type": "subslide"
    }
   },
   "source": [
    "One can see that some interesting methods are present, such as the one used to plot the data on a graph, plot()."
   ]
  },
  {
   "cell_type": "code",
   "execution_count": null,
   "metadata": {},
   "outputs": [],
   "source": [
    "# Press TAB after \"data.\" and choose plot()\n"
   ]
  },
  {
   "cell_type": "markdown",
   "metadata": {
    "slideshow": {
     "slide_type": "subslide"
    }
   },
   "source": [
    "We can also find the method hist(), used to plot an histogram of the values."
   ]
  },
  {
   "cell_type": "code",
   "execution_count": null,
   "metadata": {
    "slideshow": {
     "slide_type": "fragment"
    }
   },
   "outputs": [],
   "source": [
    "data.hist()"
   ]
  },
  {
   "cell_type": "markdown",
   "metadata": {
    "slideshow": {
     "slide_type": "subslide"
    }
   },
   "source": [
    "An interesting argument for the drawing methods such as plot() or hist() is the size you want. Just specify figsize = (length, height)."
   ]
  },
  {
   "cell_type": "code",
   "execution_count": null,
   "metadata": {
    "slideshow": {
     "slide_type": "subslide"
    }
   },
   "outputs": [],
   "source": [
    "data.plot(figsize = (15, 10))"
   ]
  },
  {
   "cell_type": "markdown",
   "metadata": {
    "slideshow": {
     "slide_type": "subslide"
    }
   },
   "source": [
    "Another very useful method is describe(), that gives us summary statistics about the dataset."
   ]
  },
  {
   "cell_type": "code",
   "execution_count": null,
   "metadata": {
    "slideshow": {
     "slide_type": "fragment"
    }
   },
   "outputs": [],
   "source": [
    "data.describe()"
   ]
  },
  {
   "cell_type": "markdown",
   "metadata": {
    "slideshow": {
     "slide_type": "subslide"
    }
   },
   "source": [
    "Exercise 1 : find a way to \n",
    "1. We have seen how to display the first entries of the DataFrame, using head(). Now let's try to display only the most recent prices (the last items of the dataframe). \n",
    "2. Let's plot them....\n",
    "3. Now, let's plot the evolution of these equities during their last 30 quotes."
   ]
  },
  {
   "cell_type": "markdown",
   "metadata": {
    "slideshow": {
     "slide_type": "subslide"
    }
   },
   "source": [
    "Solution (3 commands)"
   ]
  },
  {
   "cell_type": "code",
   "execution_count": null,
   "metadata": {
    "slideshow": {
     "slide_type": "subslide"
    }
   },
   "outputs": [],
   "source": [
    "# 1\n",
    "data.tail()"
   ]
  },
  {
   "cell_type": "code",
   "execution_count": null,
   "metadata": {
    "slideshow": {
     "slide_type": "subslide"
    }
   },
   "outputs": [],
   "source": [
    "# 2\n",
    "data.tail().plot()"
   ]
  },
  {
   "cell_type": "code",
   "execution_count": null,
   "metadata": {
    "slideshow": {
     "slide_type": "subslide"
    }
   },
   "outputs": [],
   "source": [
    "# 3\n",
    "data.tail(30).plot()"
   ]
  },
  {
   "cell_type": "markdown",
   "metadata": {
    "slideshow": {
     "slide_type": "slide"
    }
   },
   "source": [
    "## Computing financial indicators"
   ]
  },
  {
   "cell_type": "markdown",
   "metadata": {
    "slideshow": {
     "slide_type": "subslide"
    }
   },
   "source": [
    "Let's go further. Some useful bt methods are rebase() and to_returns()."
   ]
  },
  {
   "cell_type": "code",
   "execution_count": null,
   "metadata": {
    "slideshow": {
     "slide_type": "fragment"
    }
   },
   "outputs": [],
   "source": [
    "data.rebase().head()"
   ]
  },
  {
   "cell_type": "code",
   "execution_count": null,
   "metadata": {
    "slideshow": {
     "slide_type": "subslide"
    }
   },
   "outputs": [],
   "source": [
    "data.to_returns().head()"
   ]
  },
  {
   "cell_type": "markdown",
   "metadata": {
    "slideshow": {
     "slide_type": "subslide"
    }
   },
   "source": [
    "The formula of to_returns() is simply $\\frac{t_1}{t_2} - 1$."
   ]
  },
  {
   "cell_type": "markdown",
   "metadata": {
    "slideshow": {
     "slide_type": "subslide"
    }
   },
   "source": [
    "Exercise 2 : produce the two following plots :\n",
    "1. The price evolution during the last 30 quotes rebased to 100 at the beginning of the plot.\n",
    "2. The histogram of the returns of the three equities during last year (252 quotes)."
   ]
  },
  {
   "cell_type": "markdown",
   "metadata": {
    "slideshow": {
     "slide_type": "subslide"
    }
   },
   "source": [
    "Solution (2 commands)"
   ]
  },
  {
   "cell_type": "code",
   "execution_count": null,
   "metadata": {
    "slideshow": {
     "slide_type": "subslide"
    }
   },
   "outputs": [],
   "source": [
    "# 1 \n",
    "data.rebase().plot()"
   ]
  },
  {
   "cell_type": "code",
   "execution_count": null,
   "metadata": {
    "slideshow": {
     "slide_type": "subslide"
    }
   },
   "outputs": [],
   "source": [
    "# 2\n",
    "data.to_returns().tail(252).hist()"
   ]
  },
  {
   "cell_type": "markdown",
   "metadata": {
    "slideshow": {
     "slide_type": "subslide"
    }
   },
   "source": [
    "Another interesting method available for the data object is corr(). It enables us to compute the correlation matrix of our securities. Let's compute the correlation matrix of the returns."
   ]
  },
  {
   "cell_type": "code",
   "execution_count": null,
   "metadata": {
    "slideshow": {
     "slide_type": "fragment"
    }
   },
   "outputs": [],
   "source": [
    "data.to_returns().corr()"
   ]
  },
  {
   "cell_type": "markdown",
   "metadata": {
    "slideshow": {
     "slide_type": "subslide"
    }
   },
   "source": [
    "Another method, plot_corr_heatmap, enable us to get a similar result but using a heatmap."
   ]
  },
  {
   "cell_type": "code",
   "execution_count": null,
   "metadata": {
    "slideshow": {
     "slide_type": "fragment"
    }
   },
   "outputs": [],
   "source": [
    "data.to_returns().plot_corr_heatmap()"
   ]
  },
  {
   "cell_type": "markdown",
   "metadata": {
    "slideshow": {
     "slide_type": "subslide"
    }
   },
   "source": [
    "Now, let's see how to display some more complex financial statistics about our data."
   ]
  },
  {
   "cell_type": "code",
   "execution_count": null,
   "metadata": {
    "scrolled": true,
    "slideshow": {
     "slide_type": "fragment"
    }
   },
   "outputs": [],
   "source": [
    "stats = data.calc_stats()\n",
    "stats.display()"
   ]
  },
  {
   "cell_type": "markdown",
   "metadata": {
    "slideshow": {
     "slide_type": "subslide"
    }
   },
   "source": [
    "What does it mean ?\n",
    "\n",
    "- Total Return: Total return on the period.\n",
    "- Daily Sharpe: Daily Sharpe ratio\n",
    "\n",
    "The Sharpe ratio : $$S(x) = \\frac{R_x - r}{\\sigma_x}$$\n",
    "With $R_x$ being the investment return, $r$ being the riskfree rate and $\\sigma_x$ being the standard deviation of the investment.\n",
    "The Sharpe ratio measures the return you are receiving in comparison with the risk you are taking."
   ]
  },
  {
   "cell_type": "markdown",
   "metadata": {
    "slideshow": {
     "slide_type": "subslide"
    }
   },
   "source": [
    "- Daily Sortino: Daily Sortino ratio\n",
    "\n",
    "The Sortino ratio (as used in the bt package) is a variation of the Sharpe ratio, taking into account only the negative volatility. The formula is very similar :\n",
    "$$S^{'}(x) = \\frac{R_x - r}{\\sigma^-_x}$$\n",
    "With $R_x$ being the investment return, $r$ being the riskfree rate and $\\sigma^-_x$ being the downside deviation of the investment."
   ]
  },
  {
   "cell_type": "markdown",
   "metadata": {
    "slideshow": {
     "slide_type": "subslide"
    }
   },
   "source": [
    "- CAGR: Compound annual growth rate\n",
    "\n",
    "The compound annual growth rate (CAGR) :\n",
    "$${CAGR}(t_0,t_n) = (\\frac{V(t_n)}{V(t_0)})^{\\frac{1}{t_n-t_0}} - 1$$\n",
    "It is an easy way to have an idea of the \"average\" return during the period : taking the actual average of the annual returns is not as good, given that volatility can affect the results."
   ]
  },
  {
   "cell_type": "markdown",
   "metadata": {
    "slideshow": {
     "slide_type": "subslide"
    }
   },
   "source": [
    "- Max Drawdown: Maximum decline of the equity\n",
    "- Calmar Ratio: Ratio of the CAGR and the absolute value of the Max Drawdown\n",
    "\n",
    " "
   ]
  },
  {
   "cell_type": "markdown",
   "metadata": {
    "slideshow": {
     "slide_type": "subslide"
    }
   },
   "source": [
    " \n",
    "- Daily Mean (ann.): Daily average of return, times the number of trading periods in a year (252)\n",
    "- Daily Vol (ann.): Same thing with the standard deviation\n",
    "- Daily Skew: Usual measure of the asymmetry, daily average\n",
    "- Daily Kurt: Usual measure of \"tailedness\", daily average\n",
    " \n",
    " "
   ]
  },
  {
   "cell_type": "markdown",
   "metadata": {
    "slideshow": {
     "slide_type": "subslide"
    }
   },
   "source": [
    " \n",
    "  \n",
    "- MTD: The month to date return\n",
    "- 3m: 3 months ago to date return\n",
    "- 6m: 6 months\n",
    "- YTD: The beginning of the year to date return\n",
    "- 1Y: One year ago to date return\n",
    "- 3Y: Etc.\n",
    "- 5Y: Etc.\n",
    "- 10Y: Be careful : these stats are limited by the data start date !\n",
    "- Since Incep. (ann.): Same thing !"
   ]
  },
  {
   "cell_type": "markdown",
   "metadata": {
    "slideshow": {
     "slide_type": "subslide"
    }
   },
   "source": [
    "To get correct statistics (such as Sharpe and Sortino ratios), we have to specify the riskfree rate on the considered period, annualized. To estimate the riskfree rate, The Treasury Bonds rate is used. The different rates available on Yahoo are [here](https://finance.yahoo.com/bonds)."
   ]
  },
  {
   "cell_type": "code",
   "execution_count": 15,
   "metadata": {
    "slideshow": {
     "slide_type": "fragment"
    }
   },
   "outputs": [
    {
     "name": "stdout",
     "output_type": "stream",
     "text": [
      "0.005260681816399157\n"
     ]
    }
   ],
   "source": [
    "riskfree =  bt.get('^IRX', start=beginning)\n",
    "riskfree_rate = float(riskfree.mean()) / 100\n",
    "print(riskfree_rate)"
   ]
  },
  {
   "cell_type": "markdown",
   "metadata": {
    "slideshow": {
     "slide_type": "subslide"
    }
   },
   "source": [
    "We can now display accurate statistics about our data."
   ]
  },
  {
   "cell_type": "code",
   "execution_count": null,
   "metadata": {
    "slideshow": {
     "slide_type": "fragment"
    }
   },
   "outputs": [],
   "source": [
    "stats.set_riskfree_rate(riskfree_rate)\n",
    "stats.display()"
   ]
  },
  {
   "cell_type": "markdown",
   "metadata": {
    "slideshow": {
     "slide_type": "subslide"
    }
   },
   "source": [
    "Exercise 3:\n",
    "1. Plot the price evolution of General Electric and Ford since 2013.\n",
    "2. Display their financial indicators, with a correct riskfree rate."
   ]
  },
  {
   "cell_type": "markdown",
   "metadata": {
    "slideshow": {
     "slide_type": "subslide"
    }
   },
   "source": [
    "Solution"
   ]
  },
  {
   "cell_type": "code",
   "execution_count": null,
   "metadata": {},
   "outputs": [],
   "source": [
    "# 1\n",
    "data_ford_ge = bt.get(['F', 'GE'], start=beginning)\n",
    "data_ford_ge.plot()"
   ]
  },
  {
   "cell_type": "code",
   "execution_count": null,
   "metadata": {},
   "outputs": [],
   "source": [
    "# 2\n",
    "stats = data_ford_ge.calc_stats()\n",
    "stats.set_riskfree_rate(riskfree_rate)\n",
    "stats.display()"
   ]
  },
  {
   "cell_type": "markdown",
   "metadata": {
    "slideshow": {
     "slide_type": "slide"
    }
   },
   "source": [
    "## Designing automated strategies"
   ]
  },
  {
   "cell_type": "markdown",
   "metadata": {
    "slideshow": {
     "slide_type": "subslide"
    }
   },
   "source": [
    "You can establish strategies in bt in order to choose a portfolio of equities and to automatically ajust this portfolio given a determined strategy. To do so, we will use the bt.Strategy() object."
   ]
  },
  {
   "cell_type": "code",
   "execution_count": null,
   "metadata": {
    "slideshow": {
     "slide_type": "fragment"
    }
   },
   "outputs": [],
   "source": [
    "help(bt.Strategy)"
   ]
  },
  {
   "cell_type": "markdown",
   "metadata": {
    "slideshow": {
     "slide_type": "subslide"
    }
   },
   "source": [
    "As we can see, a strategy is a stack of algorithms that work one after the other, transmitting data to each other and / or stop signals. A more complete explanation can be found in the [official documentation](http://pmorissette.github.io/bt/algos.html)."
   ]
  },
  {
   "cell_type": "markdown",
   "metadata": {
    "slideshow": {
     "slide_type": "subslide"
    }
   },
   "source": [
    "A good structure for a stack of algorithm is the following one :\n",
    "- frequency : which frequency should your strategy use ?\n",
    "- selection: which securities should you choose ?\n",
    "- weighting: how much weight should each of the selected securities have in the target portfolio?\n",
    "- allocate: close out positions that are no longer needed and allocate capital to those that were selected and given target weights."
   ]
  },
  {
   "cell_type": "markdown",
   "metadata": {
    "slideshow": {
     "slide_type": "subslide"
    }
   },
   "source": [
    "Let's take a practical example, making these choices :\n",
    "- frequency : every month\n",
    "- selection: all the securities available (in the dataframe)\n",
    "- weighting: equal weight to all\n",
    "- allocate: allocate immediately."
   ]
  },
  {
   "cell_type": "code",
   "execution_count": null,
   "metadata": {
    "slideshow": {
     "slide_type": "fragment"
    }
   },
   "outputs": [],
   "source": [
    "s_equal_weights = bt.Strategy('Equal weights', \n",
    "                       [bt.algos.RunMonthly(),\n",
    "                       bt.algos.SelectAll(),\n",
    "                       bt.algos.WeighEqually(),\n",
    "                       bt.algos.Rebalance()])"
   ]
  },
  {
   "cell_type": "markdown",
   "metadata": {
    "slideshow": {
     "slide_type": "subslide"
    }
   },
   "source": [
    "We then run a backtest to assess the efficiency of our automated trading strategy."
   ]
  },
  {
   "cell_type": "code",
   "execution_count": null,
   "metadata": {
    "slideshow": {
     "slide_type": "fragment"
    }
   },
   "outputs": [],
   "source": [
    "b_equal_weights = bt.Backtest(s_equal_weights, data)\n",
    "result = bt.run(b_equal_weights)\n",
    "result.plot()"
   ]
  },
  {
   "cell_type": "markdown",
   "metadata": {
    "slideshow": {
     "slide_type": "subslide"
    }
   },
   "source": [
    "We can display the same statistics we computed before, this time for the entire portfolio (and its monthly variations)."
   ]
  },
  {
   "cell_type": "code",
   "execution_count": null,
   "metadata": {
    "slideshow": {
     "slide_type": "fragment"
    }
   },
   "outputs": [],
   "source": [
    "result.set_riskfree_rate(riskfree_rate)\n",
    "result.display()"
   ]
  },
  {
   "cell_type": "markdown",
   "metadata": {
    "slideshow": {
     "slide_type": "subslide"
    }
   },
   "source": [
    "We can plot the weight variations to have an idea of the algorithm decisions regarding our portfolio."
   ]
  },
  {
   "cell_type": "code",
   "execution_count": null,
   "metadata": {
    "slideshow": {
     "slide_type": "fragment"
    }
   },
   "outputs": [],
   "source": [
    "b_equal_weights.security_weights.head()"
   ]
  },
  {
   "cell_type": "code",
   "execution_count": null,
   "metadata": {},
   "outputs": [],
   "source": [
    "b_equal_weights.security_weights.iloc[1:].plot()"
   ]
  },
  {
   "cell_type": "markdown",
   "metadata": {
    "slideshow": {
     "slide_type": "subslide"
    }
   },
   "source": [
    "Exercise 4. Let's compare this strategy to the Standard & Poor's 500 index.\n",
    "1. Get the S&P index data from [Yahoo](https://finance.yahoo.com/).\n",
    "2. Create a strategy that only buys S&P index.\n",
    "3. Create a backtest on the data you fetched.\n",
    "4. Run it !"
   ]
  },
  {
   "cell_type": "markdown",
   "metadata": {
    "slideshow": {
     "slide_type": "subslide"
    }
   },
   "source": [
    "Solution"
   ]
  },
  {
   "cell_type": "code",
   "execution_count": 8,
   "metadata": {},
   "outputs": [
    {
     "name": "stdout",
     "output_type": "stream",
     "text": [
      "S&P 500 only\n",
      "0% [############################# ] 100% | ETA: 00:00:00"
     ]
    },
    {
     "data": {
      "text/plain": [
       "<matplotlib.axes._subplots.AxesSubplot at 0x1a25638198>"
      ]
     },
     "execution_count": 8,
     "metadata": {},
     "output_type": "execute_result"
    },
    {
     "data": {
      "image/png": "[encoded data removed]",
      "text/plain": [
       "<Figure size 1080x360 with 1 Axes>"
      ]
     },
     "metadata": {},
     "output_type": "display_data"
    }
   ],
   "source": [
    "data_sp500 = bt.get('^GSPC', start=beginning)\n",
    "\n",
    "s_sp500 = bt.Strategy('S&P 500 only', \n",
    "                       [bt.algos.RunMonthly(),\n",
    "                       bt.algos.SelectAll(),\n",
    "                       bt.algos.WeighEqually(),\n",
    "                       bt.algos.Rebalance()])\n",
    "                    \n",
    "b_sp500 = bt.Backtest(s_sp500, data_sp500)\n",
    "result = bt.run(b_sp500)\n",
    "result.plot()"
   ]
  },
  {
   "cell_type": "markdown",
   "metadata": {
    "slideshow": {
     "slide_type": "slide"
    }
   },
   "source": [
    "## Selecting algos"
   ]
  },
  {
   "cell_type": "markdown",
   "metadata": {
    "slideshow": {
     "slide_type": "slide"
    }
   },
   "source": [
    "### Frequency"
   ]
  },
  {
   "cell_type": "markdown",
   "metadata": {
    "slideshow": {
     "slide_type": "subslide"
    }
   },
   "source": [
    "The frequency can be just once using [RunOnce](http://pmorissette.github.io/bt/bt.html#bt.algos.RunOnce), a specific date using [RunOnDate](http://pmorissette.github.io/bt/bt.html#bt.algos.RunOnDate), or every n periods [RunEveryNPeriods](http://pmorissette.github.io/bt/bt.html#bt.algos.RunEveryNPeriods). The frequency can also be at the beginning of each day, week, month, quarter or year:\n",
    "- [RunDaily](http://pmorissette.github.io/bt/bt.html#bt.algos.RunDaily)\n",
    "- [RunWeekly](http://pmorissette.github.io/bt/bt.html#bt.algos.RunWeekly)\n",
    "- Etc."
   ]
  },
  {
   "cell_type": "markdown",
   "metadata": {
    "slideshow": {
     "slide_type": "slide"
    }
   },
   "source": [
    "### Selection "
   ]
  },
  {
   "cell_type": "markdown",
   "metadata": {
    "slideshow": {
     "slide_type": "subslide"
    }
   },
   "source": [
    "Let's see how we can select specific equities based on conditions. The algos we have are\n",
    "\n",
    "- [SelectAll](http://pmorissette.github.io/bt/bt.html#bt.algos.SelectAll)\n",
    "- [SelectHasData](http://pmorissette.github.io/bt/bt.html#bt.algos.SelectHasData)\n",
    "- [SelectMomentum](http://pmorissette.github.io/bt/bt.html#bt.algos.SelectMomentum)\n",
    "- [SelectN](http://pmorissette.github.io/bt/bt.html#bt.algos.SelectN)\n",
    "- [SelectRandomly](http://pmorissette.github.io/bt/bt.html#bt.algos.SelectRandomly)\n",
    "- [SelectThese](http://pmorissette.github.io/bt/bt.html#bt.algos.SelectThese)\n",
    "- [SelectWhere](http://pmorissette.github.io/bt/bt.html#bt.algos.SelectWhere)"
   ]
  },
  {
   "cell_type": "markdown",
   "metadata": {
    "slideshow": {
     "slide_type": "subslide"
    }
   },
   "source": [
    "We will use SelectRandomly to conduct a quick experiment. We will choose at random 10 securities among some of the most famous US companies, and invest in them equally."
   ]
  },
  {
   "cell_type": "code",
   "execution_count": 6,
   "metadata": {
    "scrolled": false,
    "slideshow": {
     "slide_type": "fragment"
    }
   },
   "outputs": [
    {
     "data": {
      "text/html": [
       "<div>\n",
       "<style scoped>\n",
       "    .dataframe tbody tr th:only-of-type {\n",
       "        vertical-align: middle;\n",
       "    }\n",
       "\n",
       "    .dataframe tbody tr th {\n",
       "        vertical-align: top;\n",
       "    }\n",
       "\n",
       "    .dataframe thead th {\n",
       "        text-align: right;\n",
       "    }\n",
       "</style>\n",
       "<table border=\"1\" class=\"dataframe\">\n",
       "  <thead>\n",
       "    <tr style=\"text-align: right;\">\n",
       "      <th></th>\n",
       "      <th>aapl</th>\n",
       "      <th>mcd</th>\n",
       "      <th>msft</th>\n",
       "      <th>tgt</th>\n",
       "      <th>ge</th>\n",
       "      <th>amzn</th>\n",
       "      <th>t</th>\n",
       "      <th>ups</th>\n",
       "      <th>gm</th>\n",
       "      <th>ibm</th>\n",
       "      <th>pep</th>\n",
       "      <th>vz</th>\n",
       "      <th>dis</th>\n",
       "      <th>intc</th>\n",
       "      <th>ford</th>\n",
       "      <th>cmcsa</th>\n",
       "      <th>ief</th>\n",
       "    </tr>\n",
       "    <tr>\n",
       "      <th>Date</th>\n",
       "      <th></th>\n",
       "      <th></th>\n",
       "      <th></th>\n",
       "      <th></th>\n",
       "      <th></th>\n",
       "      <th></th>\n",
       "      <th></th>\n",
       "      <th></th>\n",
       "      <th></th>\n",
       "      <th></th>\n",
       "      <th></th>\n",
       "      <th></th>\n",
       "      <th></th>\n",
       "      <th></th>\n",
       "      <th></th>\n",
       "      <th></th>\n",
       "      <th></th>\n",
       "    </tr>\n",
       "  </thead>\n",
       "  <tbody>\n",
       "    <tr>\n",
       "      <th>2013-01-02</th>\n",
       "      <td>55.923737</td>\n",
       "      <td>74.569221</td>\n",
       "      <td>23.772734</td>\n",
       "      <td>48.632969</td>\n",
       "      <td>17.364700</td>\n",
       "      <td>257.309998</td>\n",
       "      <td>25.553440</td>\n",
       "      <td>64.044159</td>\n",
       "      <td>23.505007</td>\n",
       "      <td>158.799469</td>\n",
       "      <td>58.252510</td>\n",
       "      <td>33.706596</td>\n",
       "      <td>47.022369</td>\n",
       "      <td>17.766100</td>\n",
       "      <td>1.51</td>\n",
       "      <td>16.246525</td>\n",
       "      <td>95.571938</td>\n",
       "    </tr>\n",
       "    <tr>\n",
       "      <th>2013-01-03</th>\n",
       "      <td>55.217865</td>\n",
       "      <td>74.991211</td>\n",
       "      <td>23.454268</td>\n",
       "      <td>49.740898</td>\n",
       "      <td>17.169407</td>\n",
       "      <td>258.480011</td>\n",
       "      <td>25.568039</td>\n",
       "      <td>64.102905</td>\n",
       "      <td>24.061769</td>\n",
       "      <td>157.925995</td>\n",
       "      <td>58.277714</td>\n",
       "      <td>33.546711</td>\n",
       "      <td>47.123600</td>\n",
       "      <td>17.716240</td>\n",
       "      <td>1.64</td>\n",
       "      <td>16.065163</td>\n",
       "      <td>95.080666</td>\n",
       "    </tr>\n",
       "    <tr>\n",
       "      <th>2013-01-04</th>\n",
       "      <td>53.679771</td>\n",
       "      <td>74.345810</td>\n",
       "      <td>23.015306</td>\n",
       "      <td>50.088161</td>\n",
       "      <td>17.250782</td>\n",
       "      <td>259.149994</td>\n",
       "      <td>25.721357</td>\n",
       "      <td>64.262360</td>\n",
       "      <td>24.094044</td>\n",
       "      <td>156.890778</td>\n",
       "      <td>58.361729</td>\n",
       "      <td>33.729446</td>\n",
       "      <td>48.025394</td>\n",
       "      <td>17.583284</td>\n",
       "      <td>1.61</td>\n",
       "      <td>16.056725</td>\n",
       "      <td>95.125351</td>\n",
       "    </tr>\n",
       "    <tr>\n",
       "      <th>2013-01-07</th>\n",
       "      <td>53.364014</td>\n",
       "      <td>75.222908</td>\n",
       "      <td>22.972277</td>\n",
       "      <td>50.683460</td>\n",
       "      <td>17.193819</td>\n",
       "      <td>268.459991</td>\n",
       "      <td>25.838173</td>\n",
       "      <td>64.077736</td>\n",
       "      <td>23.932665</td>\n",
       "      <td>156.203354</td>\n",
       "      <td>58.353333</td>\n",
       "      <td>34.026379</td>\n",
       "      <td>46.902756</td>\n",
       "      <td>17.658075</td>\n",
       "      <td>1.61</td>\n",
       "      <td>15.985023</td>\n",
       "      <td>95.178955</td>\n",
       "    </tr>\n",
       "    <tr>\n",
       "      <th>2013-01-08</th>\n",
       "      <td>53.507637</td>\n",
       "      <td>75.247711</td>\n",
       "      <td>22.851776</td>\n",
       "      <td>50.137768</td>\n",
       "      <td>17.006662</td>\n",
       "      <td>266.380005</td>\n",
       "      <td>25.401876</td>\n",
       "      <td>63.901474</td>\n",
       "      <td>23.698664</td>\n",
       "      <td>155.985001</td>\n",
       "      <td>58.529793</td>\n",
       "      <td>33.198349</td>\n",
       "      <td>46.709503</td>\n",
       "      <td>17.525118</td>\n",
       "      <td>1.62</td>\n",
       "      <td>16.094681</td>\n",
       "      <td>95.411179</td>\n",
       "    </tr>\n",
       "  </tbody>\n",
       "</table>\n",
       "</div>"
      ],
      "text/plain": [
       "                 aapl        mcd       msft        tgt         ge        amzn  \\\n",
       "Date                                                                            \n",
       "2013-01-02  55.923737  74.569221  23.772734  48.632969  17.364700  257.309998   \n",
       "2013-01-03  55.217865  74.991211  23.454268  49.740898  17.169407  258.480011   \n",
       "2013-01-04  53.679771  74.345810  23.015306  50.088161  17.250782  259.149994   \n",
       "2013-01-07  53.364014  75.222908  22.972277  50.683460  17.193819  268.459991   \n",
       "2013-01-08  53.507637  75.247711  22.851776  50.137768  17.006662  266.380005   \n",
       "\n",
       "                    t        ups         gm         ibm        pep         vz  \\\n",
       "Date                                                                            \n",
       "2013-01-02  25.553440  64.044159  23.505007  158.799469  58.252510  33.706596   \n",
       "2013-01-03  25.568039  64.102905  24.061769  157.925995  58.277714  33.546711   \n",
       "2013-01-04  25.721357  64.262360  24.094044  156.890778  58.361729  33.729446   \n",
       "2013-01-07  25.838173  64.077736  23.932665  156.203354  58.353333  34.026379   \n",
       "2013-01-08  25.401876  63.901474  23.698664  155.985001  58.529793  33.198349   \n",
       "\n",
       "                  dis       intc  ford      cmcsa        ief  \n",
       "Date                                                          \n",
       "2013-01-02  47.022369  17.766100  1.51  16.246525  95.571938  \n",
       "2013-01-03  47.123600  17.716240  1.64  16.065163  95.080666  \n",
       "2013-01-04  48.025394  17.583284  1.61  16.056725  95.125351  \n",
       "2013-01-07  46.902756  17.658075  1.61  15.985023  95.178955  \n",
       "2013-01-08  46.709503  17.525118  1.62  16.094681  95.411179  "
      ]
     },
     "execution_count": 6,
     "metadata": {},
     "output_type": "execute_result"
    }
   ],
   "source": [
    "equity_list = ['AAPL', 'MCD', 'MSFT', 'TGT', 'GE', 'AMZN', 'T', 'UPS', 'GM', 'IBM', 'PEP', 'VZ', 'DIS', 'INTC', 'FORD', 'CMCSA', 'IEF']\n",
    "data = bt.get(equity_list, start=beginning)\n",
    "data.head()"
   ]
  },
  {
   "cell_type": "markdown",
   "metadata": {
    "slideshow": {
     "slide_type": "subslide"
    }
   },
   "source": [
    "Exercise 5 : \n",
    "1. Let's build our random strategy. It is the same strategy as before, but this time we use SelectRandomly in our algo stack. We only select 10 securities.\n",
    "2. Compare this strategy to the S & P Index (run both of them at the same time)."
   ]
  },
  {
   "cell_type": "markdown",
   "metadata": {
    "scrolled": true,
    "slideshow": {
     "slide_type": "subslide"
    }
   },
   "source": [
    "Solution"
   ]
  },
  {
   "cell_type": "code",
   "execution_count": 9,
   "metadata": {},
   "outputs": [
    {
     "name": "stdout",
     "output_type": "stream",
     "text": [
      "Random 10\n",
      "0% [############################# ] 100% | ETA: 00:00:00"
     ]
    },
    {
     "name": "stderr",
     "output_type": "stream",
     "text": [
      "./ffn-master/ffn/core.py:2153: RuntimeWarning: divide by zero encountered in true_divide\n",
      "  res = np.divide(er.mean(), std)\n"
     ]
    },
    {
     "ename": "NameError",
     "evalue": "name 'riskfree_rate' is not defined",
     "output_type": "error",
     "traceback": [
      "\u001b[0;31m---------------------------------------------------------------------------\u001b[0m",
      "\u001b[0;31mNameError\u001b[0m                                 Traceback (most recent call last)",
      "\u001b[0;32m<ipython-input-9-33f6d3931e80>\u001b[0m in \u001b[0;36m<module>\u001b[0;34m()\u001b[0m\n\u001b[1;32m      9\u001b[0m \u001b[0mresult\u001b[0m \u001b[0;34m=\u001b[0m \u001b[0mbt\u001b[0m\u001b[0;34m.\u001b[0m\u001b[0mrun\u001b[0m\u001b[0;34m(\u001b[0m\u001b[0mb_random\u001b[0m\u001b[0;34m,\u001b[0m \u001b[0mb_sp500\u001b[0m\u001b[0;34m)\u001b[0m\u001b[0;34m\u001b[0m\u001b[0m\n\u001b[1;32m     10\u001b[0m \u001b[0;34m\u001b[0m\u001b[0m\n\u001b[0;32m---> 11\u001b[0;31m \u001b[0mresult\u001b[0m\u001b[0;34m.\u001b[0m\u001b[0mset_riskfree_rate\u001b[0m\u001b[0;34m(\u001b[0m\u001b[0mriskfree_rate\u001b[0m\u001b[0;34m)\u001b[0m\u001b[0;34m\u001b[0m\u001b[0m\n\u001b[0m\u001b[1;32m     12\u001b[0m \u001b[0mresult\u001b[0m\u001b[0;34m.\u001b[0m\u001b[0mplot\u001b[0m\u001b[0;34m(\u001b[0m\u001b[0;34m)\u001b[0m\u001b[0;34m\u001b[0m\u001b[0m\n\u001b[1;32m     13\u001b[0m \u001b[0mresult\u001b[0m\u001b[0;34m.\u001b[0m\u001b[0mdisplay\u001b[0m\u001b[0;34m(\u001b[0m\u001b[0;34m)\u001b[0m\u001b[0;34m\u001b[0m\u001b[0m\n",
      "\u001b[0;31mNameError\u001b[0m: name 'riskfree_rate' is not defined"
     ]
    }
   ],
   "source": [
    "s_random = bt.Strategy('Random 10', \n",
    "                       [bt.algos.RunMonthly(),\n",
    "                       bt.algos.SelectRandomly(10),\n",
    "                       bt.algos.WeighEqually(),\n",
    "                       bt.algos.Rebalance()])\n",
    "\n",
    "b_random = bt.Backtest(s_random, data)\n",
    "\n",
    "result = bt.run(b_random, b_sp500)\n",
    "\n",
    "result.set_riskfree_rate(riskfree_rate)\n",
    "result.plot()\n",
    "result.display()"
   ]
  },
  {
   "cell_type": "markdown",
   "metadata": {
    "slideshow": {
     "slide_type": "subslide"
    }
   },
   "source": [
    "Exercise 6 : \n",
    "We want to code an algorithm that follow a simple strategy : only invest in the 5 securities that have the highest return, every month, among our list of famous US securities. Write the strategy, and compare it to the random strategy and the S & P index. Did we beat the market ?"
   ]
  },
  {
   "cell_type": "markdown",
   "metadata": {},
   "source": [
    "Solution"
   ]
  },
  {
   "cell_type": "code",
   "execution_count": 21,
   "metadata": {},
   "outputs": [
    {
     "name": "stdout",
     "output_type": "stream",
     "text": [
      "Best 5\n",
      "0% [############################# ] 100% | ETA: 00:00:00"
     ]
    },
    {
     "name": "stderr",
     "output_type": "stream",
     "text": [
      "./ffn-master/ffn/core.py:2153: RuntimeWarning: divide by zero encountered in true_divide\n",
      "  res = np.divide(er.mean(), std)\n"
     ]
    },
    {
     "name": "stdout",
     "output_type": "stream",
     "text": [
      "Stat                 Random 10    Best 5      S&P 500 only\n",
      "-------------------  -----------  ----------  --------------\n",
      "Start                2013-01-01   2013-01-01  2013-01-01\n",
      "End                  2018-12-11   2018-12-11  2018-12-11\n",
      "Risk-free rate       0.53%        0.53%       0.53%\n",
      "\n",
      "Total Return         85.07%       53.97%      80.21%\n",
      "Daily Sharpe         0.77         0.51        0.81\n",
      "Daily Sortino        1.33         0.81        1.26\n",
      "CAGR                 10.92%       7.53%       10.42%\n",
      "Max Drawdown         -15.55%      -18.71%     -14.15%\n",
      "Calmar Ratio         0.70         0.40        0.74\n",
      "\n",
      "MTD                  -3.32%       -3.19%      -4.47%\n",
      "3m                   -10.57%      -14.16%     -8.69%\n",
      "6m                   -5.21%       -14.73%     -5.22%\n",
      "YTD                  2.76%        -8.88%      -1.38%\n",
      "1Y                   2.58%        -10.02%     -0.87%\n",
      "3Y (ann.)            7.27%        4.15%       9.42%\n",
      "5Y (ann.)            9.32%        6.15%       8.14%\n",
      "10Y (ann.)           -            -           -\n",
      "Since Incep. (ann.)  10.92%       7.53%       10.42%\n",
      "\n",
      "Daily Sharpe         0.77         0.51        0.81\n",
      "Daily Sortino        1.33         0.81        1.26\n",
      "Daily Mean (ann.)    11.35%       8.47%       10.71%\n",
      "Daily Vol (ann.)     14.11%       15.50%      12.56%\n",
      "Daily Skew           2.01         -0.24       -0.58\n",
      "Daily Kurt           34.72        3.58        3.13\n",
      "Best Day             13.31%       5.48%       3.90%\n",
      "Worst Day            -3.56%       -4.62%      -4.10%\n",
      "\n",
      "Monthly Sharpe       0.85         0.54        0.95\n",
      "Monthly Sortino      1.67         0.95        1.75\n",
      "Monthly Mean (ann.)  10.83%       8.34%       10.08%\n",
      "Monthly Vol (ann.)   12.09%       14.37%      10.04%\n",
      "Monthly Skew         0.09         -0.30       -0.33\n",
      "Monthly Kurt         0.74         0.20        0.49\n",
      "Best Month           11.99%       10.31%      8.29%\n",
      "Worst Month          -7.38%       -10.07%     -6.94%\n",
      "\n",
      "Yearly Sharpe        1.19         0.43        0.81\n",
      "Yearly Sortino       inf          1.47        11.48\n",
      "Yearly Mean          9.06%        6.23%       7.64%\n",
      "Yearly Vol           7.18%        13.40%      8.76%\n",
      "Yearly Skew          0.44         0.47        0.23\n",
      "Yearly Kurt          -2.66        -0.75       -1.46\n",
      "Best Year            17.98%       25.03%      19.41%\n",
      "Worst Year           2.40%        -8.88%      -1.38%\n",
      "\n",
      "Avg. Drawdown        -1.78%       -2.45%      -1.30%\n",
      "Avg. Drawdown Days   24.64        27.97       15.78\n",
      "Avg. Up Month        2.77%        3.29%       2.34%\n",
      "Avg. Down Month      -2.99%       -3.29%      -2.50%\n",
      "Win Year %           100.00%      60.00%      60.00%\n",
      "Win 12m %            86.89%       91.80%      86.89%\n"
     ]
    },
    {
     "data": {
      "image/png": "[encoded data removed]",
      "text/plain": [
       "<Figure size 1080x360 with 1 Axes>"
      ]
     },
     "metadata": {},
     "output_type": "display_data"
    }
   ],
   "source": [
    "s_best = bt.Strategy('Best 5', \n",
    "                       [bt.algos.RunMonthly(),\n",
    "                       bt.algos.SelectAll(),\n",
    "                       bt.algos.SelectMomentum(5, lookback=pd.DateOffset(months=3)),\n",
    "                       bt.algos.WeighEqually(),\n",
    "                       bt.algos.Rebalance()])\n",
    "\n",
    "b_best = bt.Backtest(s_best, data)\n",
    "\n",
    "result = bt.run(b_random, b_best, b_sp500)\n",
    "\n",
    "result.set_riskfree_rate(riskfree_rate)\n",
    "result.plot()\n",
    "result.display()"
   ]
  },
  {
   "cell_type": "markdown",
   "metadata": {},
   "source": [
    "We can specify the lookback period by using a pandas object called DateOffset:\n",
    "\n",
    "``\n",
    "lookback=pd.DateOffset(months=3)\n",
    "``"
   ]
  },
  {
   "cell_type": "markdown",
   "metadata": {
    "slideshow": {
     "slide_type": "slide"
    }
   },
   "source": [
    "### Weights"
   ]
  },
  {
   "cell_type": "markdown",
   "metadata": {
    "slideshow": {
     "slide_type": "subslide"
    }
   },
   "source": [
    "Two basic weighting algorithms :\n",
    "\n",
    "- [WeighEqually](http://pmorissette.github.io/bt/bt.html#bt.algos.WeighEqually)\n",
    "- [WeighRandomly](http://pmorissette.github.io/bt/bt.html#bt.algos.WeighRandomly)\n",
    "\n",
    "Algorithms to customize the weighting : \n",
    "- [WeighSpecified](http://pmorissette.github.io/bt/bt.html#bt.algos.WeighSpecified)\n",
    "- [WeighTarget](http://pmorissette.github.io/bt/bt.html#bt.algos.WeighTarget)\n",
    "\n",
    "Bt provides two ready-to-go strategies to weigh your portfolio.\n",
    "\n",
    "- [WeighInvVol](http://pmorissette.github.io/bt/bt.html#bt.algos.WeighInvVol), which weigh the assets proportionally to the inverse of their volatility. \"This is a commonly used technique for risk parity portfolios. The least volatile elements receive the highest weight under this scheme.\"\n",
    "- [WeighERC](http://pmorissette.github.io/bt/bt.html#bt.algos.WeighERC), in which the weights are designed so each security is contributing in the amount to the portfolio overall volatility.\n",
    "- [WeighMeanVar](http://pmorissette.github.io/bt/bt.html#bt.algos.WeighMeanVar), which is an implementation of Markowitz’s mean-variance optimization."
   ]
  },
  {
   "cell_type": "markdown",
   "metadata": {
    "slideshow": {
     "slide_type": "subslide"
    }
   },
   "source": [
    "Let's try a strategy where we keep all the securities in data and we weigh them using the inverse of their volatility. Let's compare it to the other strategies."
   ]
  },
  {
   "cell_type": "code",
   "execution_count": null,
   "metadata": {
    "slideshow": {
     "slide_type": "fragment"
    }
   },
   "outputs": [],
   "source": [
    "s_inv = bt.Strategy('Inverse of Volatility', \n",
    "                       [bt.algos.RunMonthly(),\n",
    "                       bt.algos.SelectAll(),\n",
    "                       bt.algos.WeighInvVol(),\n",
    "                       bt.algos.Rebalance()])\n",
    "\n",
    "b_inv = bt.Backtest(s_inv, data)\n",
    "result = bt.run(b_inv, b_random, b_best, b_sp500)\n",
    "result.set_riskfree_rate(riskfree_rate)"
   ]
  },
  {
   "cell_type": "code",
   "execution_count": null,
   "metadata": {
    "slideshow": {
     "slide_type": "subslide"
    }
   },
   "outputs": [],
   "source": [
    "result.plot()"
   ]
  },
  {
   "cell_type": "code",
   "execution_count": null,
   "metadata": {
    "slideshow": {
     "slide_type": "subslide"
    }
   },
   "outputs": [],
   "source": [
    "result.display()"
   ]
  },
  {
   "cell_type": "markdown",
   "metadata": {
    "slideshow": {
     "slide_type": "subslide"
    }
   },
   "source": [
    "What can we conclude ?"
   ]
  },
  {
   "cell_type": "markdown",
   "metadata": {
    "slideshow": {
     "slide_type": "subslide"
    }
   },
   "source": [
    "Exercise 7 : Create a strategy that will take all the securities and weigh the securities according to Markowitz Mean-Variance portfolio theory. Compare it to the others."
   ]
  },
  {
   "cell_type": "markdown",
   "metadata": {
    "slideshow": {
     "slide_type": "subslide"
    }
   },
   "source": [
    "Solution"
   ]
  },
  {
   "cell_type": "code",
   "execution_count": null,
   "metadata": {},
   "outputs": [],
   "source": [
    "s_mark = bt.Strategy('Markowitz', \n",
    "                       [bt.algos.RunEveryNPeriods(10, 3),\n",
    "                       bt.algos.SelectAll(),\n",
    "                       bt.algos.WeighMeanVar(),\n",
    "                       bt.algos.Rebalance()])\n",
    "\n",
    "b_mark = bt.Backtest(s_mark, data)\n",
    "\n",
    "result = bt.run(b_mark, b_inv, b_random, b_best, b_sp500)\n",
    "result.set_riskfree_rate(riskfree_rate)"
   ]
  },
  {
   "cell_type": "code",
   "execution_count": null,
   "metadata": {},
   "outputs": [],
   "source": [
    "result.plot()"
   ]
  },
  {
   "cell_type": "markdown",
   "metadata": {
    "slideshow": {
     "slide_type": "slide"
    }
   },
   "source": [
    "## Customising strategies"
   ]
  },
  {
   "cell_type": "markdown",
   "metadata": {
    "slideshow": {
     "slide_type": "subslide"
    }
   },
   "source": [
    "As we have seen, there are two interesting bt.algos that enable us to manually select and attribute weights :\n",
    "- [SelectWhere](http://pmorissette.github.io/bt/bt.html?#bt.algos.SelectWhere)\n",
    "- [WeighTarget](http://pmorissette.github.io/bt/bt.html?#bt.algos.WeighTarget)\n",
    "\n",
    "They take as argument a DataFrame indicating True or False for SelectWhere and the weights for WeighTarget."
   ]
  },
  {
   "cell_type": "markdown",
   "metadata": {
    "slideshow": {
     "slide_type": "subslide"
    }
   },
   "source": [
    "Let's start with SelectWhere. We need to give it a boolean DataFrame, which is composed only of True or False."
   ]
  },
  {
   "cell_type": "code",
   "execution_count": null,
   "metadata": {
    "slideshow": {
     "slide_type": "fragment"
    }
   },
   "outputs": [],
   "source": [
    "data.tail()"
   ]
  },
  {
   "cell_type": "code",
   "execution_count": null,
   "metadata": {
    "slideshow": {
     "slide_type": "subslide"
    }
   },
   "outputs": [],
   "source": [
    "selection = data > 100\n",
    "selection.tail()"
   ]
  },
  {
   "cell_type": "markdown",
   "metadata": {
    "slideshow": {
     "slide_type": "subslide"
    }
   },
   "source": [
    "Let's create a strategy based on this boolean DataFrame:"
   ]
  },
  {
   "cell_type": "code",
   "execution_count": null,
   "metadata": {
    "slideshow": {
     "slide_type": "fragment"
    }
   },
   "outputs": [],
   "source": [
    "s_custom_selection = bt.Strategy('Custom selection', \n",
    "                       [bt.algos.RunMonthly(),\n",
    "                       bt.algos.SelectWhere(selection),\n",
    "                       bt.algos.WeighEqually(),\n",
    "                       bt.algos.Rebalance()])\n",
    "\n",
    "b_custom_selection = bt.Backtest(s_custom_selection, data)"
   ]
  },
  {
   "cell_type": "code",
   "execution_count": null,
   "metadata": {
    "slideshow": {
     "slide_type": "subslide"
    }
   },
   "outputs": [],
   "source": [
    "result = bt.run(b_custom_selection)\n",
    "result.plot_security_weights()"
   ]
  },
  {
   "cell_type": "markdown",
   "metadata": {
    "slideshow": {
     "slide_type": "subslide"
    }
   },
   "source": [
    "We can use all the price methods in bt (and [ffn](http://pmorissette.github.io)) to change our data and establish interesting conditions. We can also change our data using pandas method. For instance, let's establish the following strategy : we want to invest in securities who are going up."
   ]
  },
  {
   "cell_type": "code",
   "execution_count": null,
   "metadata": {
    "slideshow": {
     "slide_type": "fragment"
    }
   },
   "outputs": [],
   "source": [
    "data.to_returns().head()"
   ]
  },
  {
   "cell_type": "code",
   "execution_count": null,
   "metadata": {
    "slideshow": {
     "slide_type": "fragment"
    }
   },
   "outputs": [],
   "source": [
    "selection = data.to_returns() > 0\n",
    "selection.head()"
   ]
  },
  {
   "cell_type": "code",
   "execution_count": null,
   "metadata": {
    "slideshow": {
     "slide_type": "subslide"
    }
   },
   "outputs": [],
   "source": [
    "s_custom_selection = bt.Strategy('Custom selection', \n",
    "                       [bt.algos.RunDaily(),\n",
    "                       bt.algos.SelectWhere(selection),\n",
    "                       bt.algos.WeighEqually(),\n",
    "                       bt.algos.Rebalance()])\n",
    "\n",
    "b_custom_selection = bt.Backtest(s_custom_selection, data)\n",
    "result = bt.run(b_custom_selection, b_sp500)\n",
    "result.plot()"
   ]
  },
  {
   "cell_type": "markdown",
   "metadata": {
    "slideshow": {
     "slide_type": "subslide"
    }
   },
   "source": [
    "It does not seem to be a good strategy."
   ]
  },
  {
   "cell_type": "markdown",
   "metadata": {
    "slideshow": {
     "slide_type": "subslide"
    }
   },
   "source": [
    "Another possibility is to use the pandas DataFrame method [rolling](https://pandas.pydata.org/pandas-docs/stable/generated/pandas.DataFrame.rolling.html) to consider moving averages."
   ]
  },
  {
   "cell_type": "code",
   "execution_count": null,
   "metadata": {
    "slideshow": {
     "slide_type": "fragment"
    }
   },
   "outputs": [],
   "source": [
    "moving_average_data = data.rolling(20).mean()\n",
    "bt.merge(data.iloc[:,:3], moving_average_data.iloc[:,:3]).plot(figsize = (20, 7))"
   ]
  },
  {
   "cell_type": "code",
   "execution_count": null,
   "metadata": {
    "slideshow": {
     "slide_type": "subslide"
    }
   },
   "outputs": [],
   "source": [
    "selection = data > moving_average_data"
   ]
  },
  {
   "cell_type": "code",
   "execution_count": null,
   "metadata": {
    "slideshow": {
     "slide_type": "subslide"
    }
   },
   "outputs": [],
   "source": [
    "s_custom_selection = bt.Strategy('Custom selection', \n",
    "                       [bt.algos.RunDaily(),\n",
    "                       bt.algos.SelectWhere(selection),\n",
    "                       bt.algos.WeighEqually(),\n",
    "                       bt.algos.Rebalance()])\n",
    "\n",
    "b_custom_selection = bt.Backtest(s_custom_selection, data)\n",
    "result = bt.run(b_custom_selection, b_sp500)\n",
    "result.plot()"
   ]
  },
  {
   "cell_type": "markdown",
   "metadata": {
    "slideshow": {
     "slide_type": "subslide"
    }
   },
   "source": [
    "Exercise: A classic strategy is to compare a moving average over a long period (50 days for instance) and another moving average over a shorter period, (let's say 15 days). If the more recent moving average is above, then some investors consider it as a signal of an uptrend. \n",
    "\n",
    "Apply this strategy to your data, simulate the results: is it efficient ?"
   ]
  },
  {
   "cell_type": "markdown",
   "metadata": {
    "slideshow": {
     "slide_type": "subslide"
    }
   },
   "source": [
    "Solution"
   ]
  },
  {
   "cell_type": "code",
   "execution_count": null,
   "metadata": {},
   "outputs": [],
   "source": []
  },
  {
   "cell_type": "code",
   "execution_count": null,
   "metadata": {},
   "outputs": [],
   "source": []
  },
  {
   "cell_type": "markdown",
   "metadata": {
    "slideshow": {
     "slide_type": "subslide"
    }
   },
   "source": [
    "Exercise 8 : You wish to evaluate the volatility of the securities before investing.\n",
    "1. Compute the dataset with a daily standard deviation over the last 10 periods.\n",
    "2. Compute the price mean over the last 10 periods, daily.\n",
    "3. Invest only in equities whose ratio std / mean is below 5% (over the last 10 periods)."
   ]
  },
  {
   "cell_type": "markdown",
   "metadata": {},
   "source": [
    "Solution"
   ]
  },
  {
   "cell_type": "code",
   "execution_count": null,
   "metadata": {},
   "outputs": [],
   "source": []
  },
  {
   "cell_type": "code",
   "execution_count": null,
   "metadata": {},
   "outputs": [],
   "source": []
  },
  {
   "cell_type": "markdown",
   "metadata": {
    "slideshow": {
     "slide_type": "subslide"
    }
   },
   "source": [
    "Ok, we can do exactly the same with weights. All we have to do is provide a DataFrame with custom weights. It is a bit more difficult though, because we have to make sure that all the weights sum up to 1. A little trick to transform any value in proportionate weight :"
   ]
  },
  {
   "cell_type": "code",
   "execution_count": null,
   "metadata": {
    "slideshow": {
     "slide_type": "fragment"
    }
   },
   "outputs": [],
   "source": [
    "d = {'col1': [1, 2], 'col2': [3, 4]}\n",
    "df = pd.DataFrame(data=d)\n",
    "print(df)"
   ]
  },
  {
   "cell_type": "code",
   "execution_count": null,
   "metadata": {
    "slideshow": {
     "slide_type": "fragment"
    }
   },
   "outputs": [],
   "source": [
    "print(df.sum(axis=1))"
   ]
  },
  {
   "cell_type": "code",
   "execution_count": null,
   "metadata": {
    "slideshow": {
     "slide_type": "fragment"
    }
   },
   "outputs": [],
   "source": [
    "print(df.div(df.sum(axis=1), axis=0))"
   ]
  },
  {
   "cell_type": "markdown",
   "metadata": {
    "slideshow": {
     "slide_type": "subslide"
    }
   },
   "source": [
    "Let's apply this to our DataFrame data."
   ]
  },
  {
   "cell_type": "code",
   "execution_count": null,
   "metadata": {
    "slideshow": {
     "slide_type": "fragment"
    }
   },
   "outputs": [],
   "source": [
    "data.head()"
   ]
  },
  {
   "cell_type": "code",
   "execution_count": null,
   "metadata": {
    "slideshow": {
     "slide_type": "subslide"
    }
   },
   "outputs": [],
   "source": [
    "data.div(data.sum(axis=1), axis=0).head()"
   ]
  },
  {
   "cell_type": "markdown",
   "metadata": {
    "slideshow": {
     "slide_type": "subslide"
    }
   },
   "source": [
    "We can apply this strategy to any transformation of ou dataframe. For instance, if we take the inverse of the standard deviation, we can create weights from it. Let's compute daily a three month (about 57 quotes) standard deviation."
   ]
  },
  {
   "cell_type": "code",
   "execution_count": null,
   "metadata": {
    "slideshow": {
     "slide_type": "fragment"
    }
   },
   "outputs": [],
   "source": [
    "std = data.to_returns().rolling(57).std()\n",
    "std.tail()"
   ]
  },
  {
   "cell_type": "markdown",
   "metadata": {
    "slideshow": {
     "slide_type": "subslide"
    }
   },
   "source": [
    "Let's take the elementwise inverse (1/element)."
   ]
  },
  {
   "cell_type": "code",
   "execution_count": null,
   "metadata": {
    "slideshow": {
     "slide_type": "fragment"
    }
   },
   "outputs": [],
   "source": [
    "inv_std = 1 / std"
   ]
  },
  {
   "cell_type": "markdown",
   "metadata": {
    "slideshow": {
     "slide_type": "subslide"
    }
   },
   "source": [
    "We can now build a weight matrix from it."
   ]
  },
  {
   "cell_type": "code",
   "execution_count": null,
   "metadata": {
    "slideshow": {
     "slide_type": "fragment"
    }
   },
   "outputs": [],
   "source": [
    "inv_std_weights = inv_std.div(inv_std.sum(axis=1), axis=0)\n",
    "inv_std_weights.tail()"
   ]
  },
  {
   "cell_type": "markdown",
   "metadata": {
    "slideshow": {
     "slide_type": "subslide"
    }
   },
   "source": [
    "Let's weight our portfolio using this weight matrix ! And let's compare it to the bt algo that does exactly the same thing."
   ]
  },
  {
   "cell_type": "code",
   "execution_count": null,
   "metadata": {
    "slideshow": {
     "slide_type": "subslide"
    }
   },
   "outputs": [],
   "source": [
    "s_inv = bt.Strategy('Inverse of Volatility', \n",
    "                       [bt.algos.RunAfterDays(57),\n",
    "                       bt.algos.RunMonthly(),\n",
    "                       bt.algos.SelectAll(),\n",
    "                       bt.algos.WeighInvVol(),\n",
    "                       bt.algos.Rebalance()])\n",
    "\n",
    "b_inv = bt.Backtest(s_inv, data)"
   ]
  },
  {
   "cell_type": "code",
   "execution_count": null,
   "metadata": {
    "slideshow": {
     "slide_type": "subslide"
    }
   },
   "outputs": [],
   "source": [
    "s_custom_weighting = bt.Strategy('Custom weighting', \n",
    "                       [bt.algos.RunMonthly(),\n",
    "                       bt.algos.SelectAll(),\n",
    "                       bt.algos.WeighTarget(inv_std_weights),\n",
    "                       bt.algos.Rebalance()])\n",
    "\n",
    "b_custom_weighting = bt.Backtest(s_custom_weighting, data)"
   ]
  },
  {
   "cell_type": "code",
   "execution_count": null,
   "metadata": {
    "slideshow": {
     "slide_type": "subslide"
    }
   },
   "outputs": [],
   "source": [
    "result = bt.run(b_custom_weighting, b_inv)\n",
    "result.plot()"
   ]
  },
  {
   "cell_type": "markdown",
   "metadata": {
    "slideshow": {
     "slide_type": "fragment"
    }
   },
   "source": [
    "We managed to reproduce manually the WeighInv algo."
   ]
  },
  {
   "cell_type": "markdown",
   "metadata": {
    "slideshow": {
     "slide_type": "subslide"
    }
   },
   "source": [
    "Exercise 10 : Let's try the opposite strategy ! Invest more in securities that are more volatile (proportionately to their three month standard deviation)"
   ]
  },
  {
   "cell_type": "markdown",
   "metadata": {
    "slideshow": {
     "slide_type": "subslide"
    }
   },
   "source": [
    "Solution"
   ]
  },
  {
   "cell_type": "code",
   "execution_count": null,
   "metadata": {},
   "outputs": [],
   "source": []
  },
  {
   "cell_type": "markdown",
   "metadata": {
    "slideshow": {
     "slide_type": "slide"
    }
   },
   "source": [
    "## Combining several strategies"
   ]
  },
  {
   "cell_type": "markdown",
   "metadata": {},
   "source": [
    "We can get the price evolution of our portfolio using the attribute \"prices\" of the backtest result."
   ]
  },
  {
   "cell_type": "code",
   "execution_count": null,
   "metadata": {},
   "outputs": [],
   "source": [
    "result = bt.run(b_inv, b_sp500)\n",
    "result.prices.head()"
   ]
  },
  {
   "cell_type": "code",
   "execution_count": null,
   "metadata": {},
   "outputs": [],
   "source": [
    "result.prices.plot(figsize = (15, 5))\n",
    "result.plot()"
   ]
  },
  {
   "cell_type": "markdown",
   "metadata": {},
   "source": [
    "Thus we can use it as data to backtest strategies built upon those strategies."
   ]
  },
  {
   "cell_type": "code",
   "execution_count": null,
   "metadata": {},
   "outputs": [],
   "source": [
    "custom_weights = result.prices * 0 \n",
    "custom_weights.iloc[:,0] = 0.5\n",
    "custom_weights.iloc[:,1] = 0.5"
   ]
  },
  {
   "cell_type": "code",
   "execution_count": null,
   "metadata": {},
   "outputs": [],
   "source": [
    "custom_weights.head()"
   ]
  },
  {
   "cell_type": "code",
   "execution_count": null,
   "metadata": {
    "slideshow": {
     "slide_type": "fragment"
    }
   },
   "outputs": [],
   "source": [
    "s_both = bt.Strategy('Half volatility, half S&P', \n",
    "                     [bt.algos.RunDaily(),\n",
    "                      bt.algos.SelectAll(),\n",
    "                      bt.algos.WeighTarget(custom_weights),\n",
    "                      bt.algos.Rebalance()])\n",
    "b_both = bt.Backtest(s_both, result.prices)"
   ]
  },
  {
   "cell_type": "code",
   "execution_count": null,
   "metadata": {
    "slideshow": {
     "slide_type": "subslide"
    }
   },
   "outputs": [],
   "source": [
    "result = bt.run(b_both, b_inv, b_sp500)\n",
    "result.plot()"
   ]
  },
  {
   "cell_type": "markdown",
   "metadata": {
    "slideshow": {
     "slide_type": "fragment"
    }
   },
   "source": [
    "This opens a lot of possibilities ! We can have portfolios of a lot of different strategies, and we can design a strategy to select / weight these strategies depending on their performance or their volatility."
   ]
  },
  {
   "cell_type": "markdown",
   "metadata": {
    "slideshow": {
     "slide_type": "slide"
    }
   },
   "source": [
    "## Using professional data"
   ]
  },
  {
   "cell_type": "markdown",
   "metadata": {
    "slideshow": {
     "slide_type": "subslide"
    }
   },
   "source": [
    "We will now see how to use a more serious data provider, [Quandl](https://www.quandl.com/). Quandl has its own Python package to make fetching data easy. (If you are on your own Python notebook / IDE, please run `pip install quandl`."
   ]
  },
  {
   "cell_type": "code",
   "execution_count": null,
   "metadata": {
    "slideshow": {
     "slide_type": "fragment"
    }
   },
   "outputs": [],
   "source": [
    "import quandl"
   ]
  },
  {
   "cell_type": "markdown",
   "metadata": {
    "slideshow": {
     "slide_type": "subslide"
    }
   },
   "source": [
    "A full documentation on how to use quandl is available [here](https://docs.quandl.com/docs)."
   ]
  },
  {
   "cell_type": "markdown",
   "metadata": {
    "slideshow": {
     "slide_type": "fragment"
    }
   },
   "source": [
    "As all data providers, Quandl needs you to register, and will give you an API key. This is a key you put in your code (Python, R, or any other language). It is used to open the access to the data, and Quandl uses it to monitor your data consumption. A free account is limited. If you want to access top notch data (such as real time data), you will need to pay. We will use a free account."
   ]
  },
  {
   "cell_type": "markdown",
   "metadata": {
    "slideshow": {
     "slide_type": "subslide"
    }
   },
   "source": [
    "Once you are on [Quandl](https://www.quandl.com/), click on SIGN IN on the top-right corner and create an account. Quandl will give you your API key straightaway : please copy and paste it below."
   ]
  },
  {
   "cell_type": "code",
   "execution_count": null,
   "metadata": {
    "slideshow": {
     "slide_type": "fragment"
    }
   },
   "outputs": [],
   "source": [
    "my_api_key = "
   ]
  },
  {
   "cell_type": "markdown",
   "metadata": {
    "slideshow": {
     "slide_type": "subslide"
    }
   },
   "source": [
    "Let's tell Quandl our api key."
   ]
  },
  {
   "cell_type": "code",
   "execution_count": null,
   "metadata": {
    "slideshow": {
     "slide_type": "fragment"
    }
   },
   "outputs": [],
   "source": [
    "quandl.ApiConfig.api_key = my_api_key"
   ]
  },
  {
   "cell_type": "markdown",
   "metadata": {
    "slideshow": {
     "slide_type": "subslide"
    }
   },
   "source": [
    "Quandl has a method similar to bt.get(). It is quandl.get():"
   ]
  },
  {
   "cell_type": "code",
   "execution_count": null,
   "metadata": {
    "slideshow": {
     "slide_type": "fragment"
    }
   },
   "outputs": [],
   "source": [
    "help(quandl.get)"
   ]
  },
  {
   "cell_type": "markdown",
   "metadata": {
    "slideshow": {
     "slide_type": "subslide"
    }
   },
   "source": [
    "A more complete documentation can be found [here](https://docs.quandl.com/docs/parameters-2#section-times-series-parameters). It is pretty straightforward. We use it almost the same way we use bt.get(), except quandl has a lot a databases, so we have to specify the database before the ticker symbol. WIKI is the name of the database. "
   ]
  },
  {
   "cell_type": "code",
   "execution_count": null,
   "metadata": {
    "slideshow": {
     "slide_type": "fragment"
    }
   },
   "outputs": [],
   "source": [
    "data = quandl.get('WIKI/AAPL', start_date = '2016-01-01')\n",
    "data.head()"
   ]
  },
  {
   "cell_type": "markdown",
   "metadata": {
    "slideshow": {
     "slide_type": "subslide"
    }
   },
   "source": [
    "To keep things simple, we are only interested in the Close price. We could select the right column in the pandas DataFrame:"
   ]
  },
  {
   "cell_type": "code",
   "execution_count": null,
   "metadata": {
    "slideshow": {
     "slide_type": "fragment"
    }
   },
   "outputs": [],
   "source": [
    "data[['Close']].head()"
   ]
  },
  {
   "cell_type": "markdown",
   "metadata": {
    "slideshow": {
     "slide_type": "subslide"
    }
   },
   "source": [
    "But this leaves a big data object in our memory, and we will not be using most of it. In the [documentation](https://docs.quandl.com/docs/parameters-2#section-times-series-parameters), we can see that the `column_index` option can be used to select the columns. Here we are only interested in the fourth column."
   ]
  },
  {
   "cell_type": "code",
   "execution_count": null,
   "metadata": {
    "slideshow": {
     "slide_type": "fragment"
    }
   },
   "outputs": [],
   "source": [
    "data = quandl.get('WIKI/AAPL', start_date = '2016-01-01', column_index = 4)\n",
    "data.head()"
   ]
  },
  {
   "cell_type": "markdown",
   "metadata": {
    "slideshow": {
     "slide_type": "subslide"
    }
   },
   "source": [
    "Let's try with our list of equities, `equity_list`."
   ]
  },
  {
   "cell_type": "code",
   "execution_count": null,
   "metadata": {
    "slideshow": {
     "slide_type": "fragment"
    }
   },
   "outputs": [],
   "source": [
    "print(equity_list)"
   ]
  },
  {
   "cell_type": "markdown",
   "metadata": {
    "slideshow": {
     "slide_type": "subslide"
    }
   },
   "source": [
    "We need to add the name of database for Quandl to understand what to fetch."
   ]
  },
  {
   "cell_type": "code",
   "execution_count": null,
   "metadata": {
    "slideshow": {
     "slide_type": "fragment"
    }
   },
   "outputs": [],
   "source": [
    "wiki_equity_list = []\n",
    "for ticker in equity_list:\n",
    "    wiki_equity_list.append('WIKI/' + ticker)\n",
    "print(wiki_equity_list)"
   ]
  },
  {
   "cell_type": "markdown",
   "metadata": {
    "slideshow": {
     "slide_type": "subslide"
    }
   },
   "source": [
    "Great ! Now we can fetch our data."
   ]
  },
  {
   "cell_type": "code",
   "execution_count": null,
   "metadata": {
    "slideshow": {
     "slide_type": "fragment"
    }
   },
   "outputs": [],
   "source": [
    "data = quandl.get(wiki_equity_list, start_date = '2016-01-01', column_index = 4)\n",
    "data.head()"
   ]
  },
  {
   "cell_type": "markdown",
   "metadata": {
    "slideshow": {
     "slide_type": "subslide"
    }
   },
   "source": [
    "Perfect. If we want to fetch a big number of ticker symbols, it is more convenient to read the list of ticker symbol from a csv file. Here is how to do it."
   ]
  },
  {
   "cell_type": "code",
   "execution_count": null,
   "metadata": {
    "slideshow": {
     "slide_type": "fragment"
    }
   },
   "outputs": [],
   "source": [
    "big_list = []\n",
    "import csv\n",
    "with open('WIKI-datasets-codes.csv', 'rb') as csvfile:\n",
    "    spamreader = csv.reader(csvfile)\n",
    "    for row in spamreader:\n",
    "        big_list.append(row[0])\n",
    "\n",
    "big_list.pop(1)\n",
    "big_list.pop(1)\n",
    "print(big_list[:20])"
   ]
  },
  {
   "cell_type": "code",
   "execution_count": null,
   "metadata": {
    "slideshow": {
     "slide_type": "subslide"
    }
   },
   "outputs": [],
   "source": [
    "data = quandl.get(big_list[:50], start_date = '2016-05-01', column_index = 4)\n",
    "print(data.head())"
   ]
  },
  {
   "cell_type": "markdown",
   "metadata": {
    "slideshow": {
     "slide_type": "subslide"
    }
   },
   "source": [
    "Let's clean the missing data."
   ]
  },
  {
   "cell_type": "code",
   "execution_count": null,
   "metadata": {
    "slideshow": {
     "slide_type": "fragment"
    }
   },
   "outputs": [],
   "source": [
    "data.dropna(axis=1, how='all', inplace=True)\n",
    "data.dropna(axis=0, how='all', inplace=True)\n",
    "print(data.head())"
   ]
  },
  {
   "cell_type": "code",
   "execution_count": null,
   "metadata": {
    "slideshow": {
     "slide_type": "subslide"
    }
   },
   "outputs": [],
   "source": [
    "s1 = bt.Strategy('Best 10', \n",
    "                       [bt.algos.RunMonthly(),\n",
    "                       bt.algos.SelectAll(),\n",
    "                       bt.algos.SelectMomentum(10, lookback = pd.DateOffset(months=2)),\n",
    "                       bt.algos.WeighEqually(),\n",
    "                       bt.algos.Rebalance()])\n",
    "best10 = bt.Backtest(s1, data)\n",
    "result = bt.run(best10)\n",
    "result.plot()"
   ]
  },
  {
   "cell_type": "markdown",
   "metadata": {
    "slideshow": {
     "slide_type": "slide"
    }
   },
   "source": [
    "## Putting it all into practice"
   ]
  },
  {
   "cell_type": "markdown",
   "metadata": {
    "slideshow": {
     "slide_type": "subslide"
    }
   },
   "source": [
    "Choose any data you want, using Yahoo or Quandl (or any provider you want).\n",
    "\n",
    "Imagine we are the first of January, 2016.\n",
    "\n",
    "Choose a strategy. Run a backtest on it. Choose the length of the backtest according to your strategey : one month, one year, 5 years...\n",
    "\n",
    "Then test the strategy from the 1st of January 2016 to now. Did you beat the market ? Why ? What would you change ?\n",
    "\n",
    "(Please do not cheat and run a lot of strategies until you find one that has good returns. The mark will not depend on the return you achieved !)."
   ]
  },
  {
   "cell_type": "markdown",
   "metadata": {
    "slideshow": {
     "slide_type": "slide"
    }
   },
   "source": [
    "## Going further"
   ]
  },
  {
   "cell_type": "markdown",
   "metadata": {
    "slideshow": {
     "slide_type": "subslide"
    }
   },
   "source": [
    "Now you know how to:\n",
    "- Use Python;\n",
    "- Read, run and write IPython Notebooks (= Jupyter Notebooks)\n",
    "- Import a new package, use `help()` and the documentation to learn everything about the package;\n",
    "- Use bt and pandas' DataFrames;\n",
    "- Automatically fetch financial data from a professional source using your own API key;\n",
    "- Compute basic stats and financial indicators about any equity over any period, and draw nice plots to go with it;\n",
    "- Design simple and complex automated trading strategies;\n",
    "- Test them over any period to assess their efficiency.\n",
    "\n",
    "What you can do to go further:\n",
    "- Keep on using Python to do things, learn more about it;\n",
    "- Learn more about Pandas and data structures in Python;\n",
    "- Learn more about bt to make your strategies a bit more realistic; for instance, you can set up commissions fees that will impact your portfolio returns. You can also use methods surch as [LimitDeltas](http://pmorissette.github.io/bt/bt.html#bt.algos.LimitDeltas) and [LimitWeights](http://pmorissette.github.io/bt/bt.html#bt.algos.LimitWeights) to avoid big changes in your portfolio.\n",
    "- Discover other BackTesting and trading tools in Python: bt is great to start but more complete tools exist. See [here](https://www.quantstart.com/articles/backtesting-systematic-trading-strategies-in-python-considerations-and-open-source-frameworks) for a review of the possibilities.\n",
    "- Use everything that your learned to experiment and test what you see in financial courses, in the news or elsewhere: using Python, Pandas and a backtesting tool such as bt, you can write strategies to test most of the theoretical things you can come across. You can use this online notebook to run things, it will remain here for a while.\n",
    "- Discover the world of algorithmic trading, with different views (technical trading, fundamentalist trading, high frequency arbitrage...). You can have a glance at it thanks to online communities such as [Quantopian](https://www.quantopian.com/posts).\n",
    "- Need anything ? You can email me at [nicolas.mauhe@u-bordeaux.fr](mailto:nicolas.mauhe@u-bordeaux.fr)"
   ]
  }
 ],
 "metadata": {
  "celltoolbar": "Slideshow",
  "kernelspec": {
   "display_name": "Python 3",
   "language": "python",
   "name": "python3"
  },
  "language_info": {
   "codemirror_mode": {
    "name": "ipython",
    "version": 3
   },
   "file_extension": ".py",
   "mimetype": "text/x-python",
   "name": "python",
   "nbconvert_exporter": "python",
   "pygments_lexer": "ipython3",
   "version": "3.7.0"
  },
  "livereveal": {
   "auto_select": "code",
   "auto_select_fragment": true,
   "autolaunch": true
  }
 },
 "nbformat": 4,
 "nbformat_minor": 2
}
