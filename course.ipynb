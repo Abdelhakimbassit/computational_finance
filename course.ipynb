{
 "cells": [
  {
   "cell_type": "markdown",
   "metadata": {},
   "source": [
    "# Using Python to analyze financial data and test automated strategies\n",
    "Computational Finance, December 11 and 13, 2017\n",
    "\n",
    "Nicolas Mauhé"
   ]
  },
  {
   "cell_type": "markdown",
   "metadata": {},
   "source": [
    "Bt is a simple Python package that can be used to fetch financial data, analyze them, establish algorithmic trading strategies, and backtesting them. It is a great tool to test anything you learn in financial courses. A complete description of the package can be found [here](http://pmorissette.github.io/bt/). It is an open-source package : which means you can access the code behind it on its [github repository](https://github.com/pmorissette/bt). Most of the Python packages work this way : so please get used to using other people work and to reading package documentations, because that is the way Python works. \n",
    "\n",
    "We first allow matplotlib in the notebook in order to have nice graphs, and we import bt."
   ]
  },
  {
   "cell_type": "code",
   "execution_count": null,
   "metadata": {},
   "outputs": [],
   "source": [
    "%matplotlib inline\n",
    "import bt"
   ]
  },
  {
   "cell_type": "markdown",
   "metadata": {},
   "source": [
    "Let's start by choosing which stock we want to invest in. We will focus on US equity. We can use any ticker symbol of any US Equity. A list can be found [here](http://eoddata.com/symbols.aspx). Let's choose three companies."
   ]
  },
  {
   "cell_type": "markdown",
   "metadata": {},
   "source": [
    "We can use the bt method bt.get() to fetch financial data from Yahoo. To know how a method work, we can always use the python method help()."
   ]
  },
  {
   "cell_type": "code",
   "execution_count": null,
   "metadata": {},
   "outputs": [],
   "source": [
    "help(bt.get)"
   ]
  },
  {
   "cell_type": "markdown",
   "metadata": {},
   "source": [
    "This is a bit \"raw\", but it can be useful. Another solution is to check the [package documentation](http://pmorissette.github.io/bt/index.html). Here is how to use bt.get():"
   ]
  },
  {
   "cell_type": "code",
   "execution_count": null,
   "metadata": {},
   "outputs": [],
   "source": [
    "equity_list = ['AAPL', 'MCD', 'MSFT']\n",
    "data = bt.get(equity_list, start='2010-01-01')\n",
    "print data.head()"
   ]
  },
  {
   "cell_type": "markdown",
   "metadata": {},
   "source": [
    "We can check the type of this new Python object by using the method type()"
   ]
  },
  {
   "cell_type": "code",
   "execution_count": null,
   "metadata": {},
   "outputs": [],
   "source": [
    "type(data)"
   ]
  },
  {
   "cell_type": "markdown",
   "metadata": {},
   "source": [
    "It is a dataframe of the package Pandas, the most used Python package to do data analysis.\n",
    "We can check the features of a pandas dataframe by using the method dir()."
   ]
  },
  {
   "cell_type": "code",
   "execution_count": null,
   "metadata": {},
   "outputs": [],
   "source": [
    "dir(data)"
   ]
  },
  {
   "cell_type": "markdown",
   "metadata": {},
   "source": [
    "There are a lot of things, and methods are mixed up with attributes. It is easier to check the Pandas documentation about [dataframes](https://pandas.pydata.org/pandas-docs/stable/generated/pandas.DataFrame.html). One can see that some interesting methods are present, such as the one used to plot the data on a graph, plot().\n"
   ]
  },
  {
   "cell_type": "code",
   "execution_count": null,
   "metadata": {},
   "outputs": [],
   "source": [
    "data.plot()"
   ]
  },
  {
   "cell_type": "markdown",
   "metadata": {},
   "source": [
    "We can also find the method hist(), used to plot an histogram of the values."
   ]
  },
  {
   "cell_type": "code",
   "execution_count": null,
   "metadata": {},
   "outputs": [],
   "source": [
    "data.hist()"
   ]
  },
  {
   "cell_type": "markdown",
   "metadata": {},
   "source": [
    "An interesting argument for the drawing methods such as plot() or hist() is the size you want. Just specify figsize = (length, height)."
   ]
  },
  {
   "cell_type": "code",
   "execution_count": null,
   "metadata": {},
   "outputs": [],
   "source": [
    "data.tail(300).rebase().plot(figsize = (15, 10))"
   ]
  },
  {
   "cell_type": "markdown",
   "metadata": {},
   "source": [
    "Another very useful method is describe(), that gives us summary statistics about the dataset."
   ]
  },
  {
   "cell_type": "code",
   "execution_count": null,
   "metadata": {},
   "outputs": [],
   "source": [
    "data.describe()"
   ]
  },
  {
   "cell_type": "markdown",
   "metadata": {},
   "source": [
    "Exercise : find a way to \n",
    "1. display only the most recent prices (the last items of the dataframe). \n",
    "2. plot them....\n",
    "3. Ideally, I would like to plot the evolution of these equities during their last 30 quotes."
   ]
  },
  {
   "cell_type": "markdown",
   "metadata": {},
   "source": [
    "Solution (3 commands)"
   ]
  },
  {
   "cell_type": "markdown",
   "metadata": {},
   "source": [
    "Some useful bt methods are rebase() and to_returns()."
   ]
  },
  {
   "cell_type": "code",
   "execution_count": null,
   "metadata": {},
   "outputs": [],
   "source": [
    "print data.head().rebase()"
   ]
  },
  {
   "cell_type": "code",
   "execution_count": null,
   "metadata": {},
   "outputs": [],
   "source": [
    "print data.head().to_returns()"
   ]
  },
  {
   "cell_type": "raw",
   "metadata": {},
   "source": [
    "The formula of to_returns() is simply (t1 / t0) - 1."
   ]
  },
  {
   "cell_type": "markdown",
   "metadata": {},
   "source": [
    "Exercise : produce the two following plots :\n",
    "- The price evolution during the last 30 quotes rebased to 100 at the beginning of the plot.\n",
    "- The histogram of the returns of the three equities during the last 30 quotes"
   ]
  },
  {
   "cell_type": "markdown",
   "metadata": {},
   "source": [
    "Solution"
   ]
  },
  {
   "cell_type": "markdown",
   "metadata": {},
   "source": [
    "Let's see how to display some financial statistics about our data."
   ]
  },
  {
   "cell_type": "code",
   "execution_count": null,
   "metadata": {},
   "outputs": [],
   "source": [
    "stats = data.calc_stats()\n",
    "stats.display()"
   ]
  },
  {
   "cell_type": "markdown",
   "metadata": {},
   "source": [
    "What does it mean ?\n",
    "\n",
    "- Total Return: Total return on the period.\n",
    "- Daily Sharpe: Daily Sharpe ratio\n",
    "\n",
    "The Sharpe ratio : $$S(x) = \\frac{R_x - r}{\\sigma_x}$$\n",
    "With $R_x$ being the investment return, $r$ being the riskfree rate and $\\sigma_x$ being the standard deviation of the investment.\n",
    "The Sharpe ratio measures the return you are receiving in comparison with the risk you are taking.\n",
    "- Daily Sortino: Daily SOrtino ratio\n",
    "\n",
    "The Sortino ratio (as used in the bt package) is a variation of the Sharpe ratio, taking into account only the negative volatility. The formula is very similar :\n",
    "$$S^{'}(x) = \\frac{R_x - r}{\\sigma^-_x}$$\n",
    "With $R_x$ being the investment return, $r$ being the riskfree rate and $\\sigma^-_x$ being the downside deviation of the investment.\n",
    "\n",
    "- CAGR: Compound annual growth rate\n",
    "\n",
    "The compound annual growth rate (CAGR) :\n",
    "$${CAGR}(t_0,t_n) = \\left( {V(t_n)/V(t_0)} \\right)^\\frac{1}{t_n-t_0} - 1$$\n",
    "It is an easy way to have an idea of the \"average\" return during the period : taking the actual average of the annual returns is not as good, given that volatility can affect the results.\n",
    "\n",
    "- Max Drawdown: Maximum decline of the equity\n",
    "- Calmar Ratio: Ratio of the CAGR and the absolute value of the Max Drawdown\n",
    "\n",
    " \n",
    " \n",
    "- Daily Mean (ann.): Daily average of return, times the number of trading periods in a year (252)\n",
    "- Daily Vol (ann.): Same thing with the standard deviation\n",
    "- Daily Skew: Usual measure of the asymmetry, daily average\n",
    "- Daily Kurt: Usual measure of \"tailedness\", daily average\n",
    " \n",
    "  \n",
    "  \n",
    "- MTD: The month to date return\n",
    "- 3m: 3 months ago to date return\n",
    "- 6m: 6 months\n",
    "- YTD: The beginning of the year to date return\n",
    "- 1Y: One year ago to date return\n",
    "- 3Y: Etc.\n",
    "- 5Y: Etc.\n",
    "- 10Y: Be careful : these stats are limited by the data start date !\n",
    "- Since Incep. (ann.): Same thing !"
   ]
  },
  {
   "cell_type": "markdown",
   "metadata": {},
   "source": [
    "To get correct statistics (such as Sharpe and Sortino ratios), we have to specify the riskfree rate on the considered period. The Treasury Bonds rate is used. We will use the ticker symbol [IEF](http://eoddata.com/stockquote/NASDAQ/IEF.htm) to determine the riskfree rate."
   ]
  },
  {
   "cell_type": "code",
   "execution_count": null,
   "metadata": {},
   "outputs": [],
   "source": [
    "riskfree =  bt.get('IEF', start='2010-01-01')\n",
    "riskfree_rate = float(riskfree.calc_cagr())\n",
    "print riskfree_rate"
   ]
  },
  {
   "cell_type": "markdown",
   "metadata": {},
   "source": [
    "We can now display accurate statistics about our data."
   ]
  },
  {
   "cell_type": "code",
   "execution_count": null,
   "metadata": {},
   "outputs": [],
   "source": [
    "stats.set_riskfree_rate(riskfree_rate)\n",
    "stats.display()"
   ]
  },
  {
   "cell_type": "markdown",
   "metadata": {},
   "source": [
    "## Strategies"
   ]
  },
  {
   "cell_type": "markdown",
   "metadata": {},
   "source": [
    "You can establish strategies in bt in order to choose a portfolio of equities and to automatically ajust this portfolio given a determined strategy. To do so, we will use the bt.Strategy() object."
   ]
  },
  {
   "cell_type": "code",
   "execution_count": null,
   "metadata": {},
   "outputs": [],
   "source": [
    "help(bt.Strategy)"
   ]
  },
  {
   "cell_type": "markdown",
   "metadata": {},
   "source": [
    "As we can see, a strategy is a stack of algorithms that work one after the other, transmitting data to each other and / or stop signals. A more complete explanation can be found in the [official documentation](http://pmorissette.github.io/bt/algos.html)."
   ]
  },
  {
   "cell_type": "markdown",
   "metadata": {},
   "source": [
    "A good structure for a stack of algorithm is the following one :\n",
    "- frequency : which frequency should your strategy use ?\n",
    "- selection: which securities should you choose ?\n",
    "- weighting: how much weight should each of the selected securities have in the target portfolio?\n",
    "- allocate: close out positions that are no longer needed and allocate capital to those that were selected and given target weights.\n",
    "\n",
    "Let's take a practical example, making these choices :\n",
    "- frequency : every month\n",
    "- selection: all the securities available (in the dataframe)\n",
    "- weighting: equal weight to all\n",
    "- allocate.\n"
   ]
  },
  {
   "cell_type": "code",
   "execution_count": null,
   "metadata": {},
   "outputs": [],
   "source": [
    "s1 = bt.Strategy('Equal weights', \n",
    "                       [bt.algos.RunMonthly(),\n",
    "                       bt.algos.SelectAll(),\n",
    "                       bt.algos.WeighEqually(),\n",
    "                       bt.algos.Rebalance()])"
   ]
  },
  {
   "cell_type": "markdown",
   "metadata": {},
   "source": [
    "We then run a backtest to assess the efficiency of our automated trading strategy."
   ]
  },
  {
   "cell_type": "code",
   "execution_count": null,
   "metadata": {},
   "outputs": [],
   "source": [
    "equal_weights = bt.Backtest(s1, data)\n",
    "result = bt.run(equal_weights)\n",
    "result.plot()\n",
    "dir(result)"
   ]
  },
  {
   "cell_type": "markdown",
   "metadata": {},
   "source": [
    "We can display the same statistics we computed before, this time for the entire portfolio (and its monthly variations)."
   ]
  },
  {
   "cell_type": "code",
   "execution_count": null,
   "metadata": {},
   "outputs": [],
   "source": [
    "result.set_riskfree_rate(riskfree_rate)\n",
    "result.display()"
   ]
  },
  {
   "cell_type": "markdown",
   "metadata": {},
   "source": [
    "We can plot the weight variations to have an idea of the algorithm decisions regarding our portfolio."
   ]
  },
  {
   "cell_type": "code",
   "execution_count": null,
   "metadata": {},
   "outputs": [],
   "source": [
    "result.plot_security_weights()"
   ]
  },
  {
   "cell_type": "markdown",
   "metadata": {},
   "source": [
    "Exercise. Let's compare this strategy to the Standard & Poor's 500 index. We can create a strategy that only buys S&P (ticker symbol : SPY)"
   ]
  },
  {
   "cell_type": "markdown",
   "metadata": {},
   "source": [
    "Solution"
   ]
  },
  {
   "cell_type": "markdown",
   "metadata": {},
   "source": [
    "We can now run the same backtest comparing our two strategies."
   ]
  },
  {
   "cell_type": "code",
   "execution_count": null,
   "metadata": {},
   "outputs": [],
   "source": [
    "# To delete\n",
    "s_p_data = bt.get('SPY', start='2010-01-01')\n",
    "s2 = bt.Strategy('Benchmark', \n",
    "                       [bt.algos.RunOnce(),\n",
    "                       bt.algos.SelectAll(),\n",
    "                       bt.algos.WeighEqually(),\n",
    "                       bt.algos.Rebalance()])\n",
    "# End To delete\n",
    "benchmark = bt.Backtest(s2, s_p_data)\n",
    "result = bt.run(equal_weights, benchmark)\n",
    "result.plot()"
   ]
  },
  {
   "cell_type": "markdown",
   "metadata": {},
   "source": [
    "## Selecting algos"
   ]
  },
  {
   "cell_type": "markdown",
   "metadata": {},
   "source": [
    "### Frequency"
   ]
  },
  {
   "cell_type": "markdown",
   "metadata": {},
   "source": [
    "The frequency can be just once using [RunOnce](http://pmorissette.github.io/bt/bt.html#bt.algos.RunOnce), a specific date using [RunOnDate](http://pmorissette.github.io/bt/bt.html#bt.algos.RunOnDate), or every n periods [RunEveryNPeriods](http://pmorissette.github.io/bt/bt.html#bt.algos.RunEveryNPeriods). The frequency can also be at the beginning of each day, week, month, quarter or year.\n",
    "- [RunDaily](http://pmorissette.github.io/bt/bt.html#bt.algos.RunDaily)\n",
    "- [RunWeekly](http://pmorissette.github.io/bt/bt.html#bt.algos.RunWeekly)\n",
    "- Etc."
   ]
  },
  {
   "cell_type": "markdown",
   "metadata": {},
   "source": [
    "### Selection "
   ]
  },
  {
   "cell_type": "markdown",
   "metadata": {},
   "source": [
    "Let's see how we can select specific equities based on conditions. The algos we have are\n",
    "\n",
    "- [SelectAll](http://pmorissette.github.io/bt/bt.html#bt.algos.SelectAll)\n",
    "- SelectHasData\n",
    "- SelectMomentum\n",
    "- SelectN\n",
    "- SelectRandomly\n",
    "- SelectThese\n",
    "- SelectWhere"
   ]
  },
  {
   "cell_type": "markdown",
   "metadata": {},
   "source": [
    "We will use SelectRandomly to conduct a quick experiment. "
   ]
  },
  {
   "cell_type": "code",
   "execution_count": null,
   "metadata": {},
   "outputs": [],
   "source": [
    "equity_list = ['AAPL', 'MCD', 'MSFT', 'TGT', 'GE', 'AMZN', 'T', 'UPS', 'GM', 'IBM', 'PEP', 'VZ', 'DIS', 'INTC', 'FORD', 'CMCSA', 'IEF']\n",
    "data = bt.get(equity_list, start='2010-01-01')\n",
    "print data.head()"
   ]
  },
  {
   "cell_type": "markdown",
   "metadata": {},
   "source": [
    "Let's build our strategy as before, but this time using SelectRandomly:"
   ]
  },
  {
   "cell_type": "code",
   "execution_count": null,
   "metadata": {},
   "outputs": [],
   "source": [
    "s_10random = bt.Strategy('10 random', \n",
    "                       [bt.algos.RunMonthly(),\n",
    "                       bt.algos.SelectRandomly(),\n",
    "                       bt.algos.WeighEqually(),\n",
    "                       bt.algos.Rebalance()])\n",
    "backtest_10random = bt.Backtest(s_10random, data)\n",
    "result = bt.run(backtest_10random, benchmark)\n",
    "result.plot()"
   ]
  },
  {
   "cell_type": "code",
   "execution_count": null,
   "metadata": {},
   "outputs": [],
   "source": [
    "result.set_riskfree_rate(riskfree_rate)\n",
    "result.display()"
   ]
  },
  {
   "cell_type": "markdown",
   "metadata": {},
   "source": [
    "Our strategy is less efficient than the S & P, we did not beat the market."
   ]
  },
  {
   "cell_type": "markdown",
   "metadata": {},
   "source": [
    "Exercise : We want to code an algorithm that follow a simple strategy : only invest in the 5 securities that have the highest return, every month, among our list of famous US securities. Write the strategy, and compare it to the random strategy and the S & P index. Did we beat the market ?"
   ]
  },
  {
   "cell_type": "markdown",
   "metadata": {},
   "source": [
    "Weights:"
   ]
  },
  {
   "cell_type": "markdown",
   "metadata": {},
   "source": [
    "Allocate :\n",
    "\n",
    "- [Rebalance](http://pmorissette.github.io/bt/bt.html#bt.algos.Rebalance)\n",
    "- [RebalanceOverTime](http://pmorissette.github.io/bt/bt.html#bt.algos.RebalanceOverTime)\n"
   ]
  }
 ],
 "metadata": {
  "kernelspec": {
   "display_name": "Python 2",
   "language": "python",
   "name": "python2"
  },
  "language_info": {
   "codemirror_mode": {
    "name": "ipython",
    "version": 2
   },
   "file_extension": ".py",
   "mimetype": "text/x-python",
   "name": "python",
   "nbconvert_exporter": "python",
   "pygments_lexer": "ipython2",
   "version": "2.7.13"
  }
 },
 "nbformat": 4,
 "nbformat_minor": 2
}
